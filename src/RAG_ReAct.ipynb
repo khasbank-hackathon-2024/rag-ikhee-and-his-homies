{
 "cells": [
  {
   "cell_type": "code",
   "execution_count": null,
   "metadata": {},
   "outputs": [],
   "source": [
    "import os\n",
    "\n",
    "HUGGINGFACEHUB_API_TOKEN = ''\n",
    "os.environ[\"HUGGINGFACEHUB_API_TOKEN\"] = HUGGINGFACEHUB_API_TOKEN\n",
    "os.environ[\"SERPER_API_KEY\"] = ''\n",
    "os.environ['OPENAI_API_KEY'] = ''"
   ]
  },
  {
   "cell_type": "markdown",
   "metadata": {},
   "source": [
    "Retrieval, including loading vectordb"
   ]
  },
  {
   "cell_type": "code",
   "execution_count": null,
   "metadata": {},
   "outputs": [
    {
     "name": "stderr",
     "output_type": "stream",
     "text": [
      "C:\\Users\\ikhba\\AppData\\Local\\Temp\\ipykernel_3176\\520700564.py:11: LangChainDeprecationWarning: The class `Chroma` was deprecated in LangChain 0.2.9 and will be removed in 0.4. An updated version of the class exists in the langchain-chroma package and should be used instead. To use it run `pip install -U langchain-chroma` and import as `from langchain_chroma import Chroma`.\n",
      "  vectordb = Chroma(collection_name='v_db', persist_directory='../docs/chroma14', embedding_function=embedding)\n",
      "⚠️ It looks like you upgraded from a version below 0.6 and could benefit from vacuuming your database. Run chromadb utils vacuum --help for more information.\n"
     ]
    }
   ],
   "source": [
    "import openai\n",
    "from langchain_openai import OpenAIEmbeddings\n",
    "from langchain.vectorstores import Chroma\n",
    "openai.api_key = ''\n",
    "\n",
    "embedding = OpenAIEmbeddings(\n",
    "    model=\"text-embedding-3-large\",\n",
    ")\n",
    "\n",
    "# Load from disk\n",
    "vectordb = Chroma(collection_name='v_db', persist_directory='../docs/chroma14', embedding_function=embedding)"
   ]
  },
  {
   "cell_type": "markdown",
   "metadata": {},
   "source": [
    "Find which class prompt belongs to"
   ]
  },
  {
   "cell_type": "code",
   "execution_count": 5,
   "metadata": {},
   "outputs": [
    {
     "name": "stderr",
     "output_type": "stream",
     "text": [
      "c:\\Users\\ikhba\\Documents\\ReAct\\.conda\\lib\\site-packages\\transformers\\tokenization_utils_base.py:1601: FutureWarning: `clean_up_tokenization_spaces` was not set. It will be set to `True` by default. This behavior will be depracted in transformers v4.45, and will be then set to `False` by default. For more details check this issue: https://github.com/huggingface/transformers/issues/31884\n",
      "  warnings.warn(\n"
     ]
    }
   ],
   "source": [
    "from transformers import AutoTokenizer, pipeline\n",
    "\n",
    "tokenizer = AutoTokenizer.from_pretrained(\"bayartsogt/mongolian-gpt2\")\n",
    "tokenizer.pad_token = tokenizer.eos_token\n",
    "\n",
    "generator = pipeline(\"text-generation\", model=\"Ikhee10/khasbank_three_classifier_v13\", tokenizer = tokenizer, device=0, num_beams=5)"
   ]
  },
  {
   "cell_type": "code",
   "execution_count": 6,
   "metadata": {},
   "outputs": [],
   "source": [
    "import re\n",
    "\n",
    "def process_generated_text(text):\n",
    "    # Example regex to extract data in the format you've specified\n",
    "    matches = re.findall(r'<(.*?)>', text)\n",
    "    ans = matches[1] if len(matches) > 0 else ''\n",
    "    if ' ' in ans:\n",
    "        ans = ans.split(' ')[0].strip()\n",
    "    return ans\n",
    "    \n",
    "def generate_and_process(prompt):\n",
    "    result = generator(prompt, max_length=32, pad_token_id=tokenizer.eos_token_id)\n",
    "    generated_text = result[0]['generated_text']\n",
    "\n",
    "    return process_generated_text(generated_text)"
   ]
  },
  {
   "cell_type": "code",
   "execution_count": null,
   "metadata": {},
   "outputs": [
    {
     "name": "stdout",
     "output_type": "stream",
     "text": [
      "Collecting google-cloud-translate\n",
      "  Downloading google_cloud_translate-3.18.0-py2.py3-none-any.whl.metadata (5.5 kB)\n",
      "Requirement already satisfied: google-api-core!=2.0.*,!=2.1.*,!=2.10.*,!=2.2.*,!=2.3.*,!=2.4.*,!=2.5.*,!=2.6.*,!=2.7.*,!=2.8.*,!=2.9.*,<3.0.0dev,>=1.34.1 in c:\\users\\ikhba\\documents\\react\\.conda\\lib\\site-packages (from google-api-core[grpc]!=2.0.*,!=2.1.*,!=2.10.*,!=2.2.*,!=2.3.*,!=2.4.*,!=2.5.*,!=2.6.*,!=2.7.*,!=2.8.*,!=2.9.*,<3.0.0dev,>=1.34.1->google-cloud-translate) (2.23.0)\n",
      "Requirement already satisfied: google-auth!=2.24.0,!=2.25.0,<3.0.0dev,>=2.14.1 in c:\\users\\ikhba\\documents\\react\\.conda\\lib\\site-packages (from google-cloud-translate) (2.36.0)\n",
      "Collecting google-cloud-core<3.0.0dev,>=1.4.4 (from google-cloud-translate)\n",
      "  Downloading google_cloud_core-2.4.1-py2.py3-none-any.whl.metadata (2.7 kB)\n",
      "Requirement already satisfied: proto-plus<2.0.0dev,>=1.22.3 in c:\\users\\ikhba\\documents\\react\\.conda\\lib\\site-packages (from google-cloud-translate) (1.25.0)\n",
      "Requirement already satisfied: protobuf!=4.21.0,!=4.21.1,!=4.21.2,!=4.21.3,!=4.21.4,!=4.21.5,<6.0.0dev,>=3.20.2 in c:\\users\\ikhba\\documents\\react\\.conda\\lib\\site-packages (from google-cloud-translate) (5.29.1)\n",
      "Collecting grpc-google-iam-v1<1.0.0dev,>=0.12.4 (from google-cloud-translate)\n",
      "  Downloading grpc_google_iam_v1-0.13.1-py2.py3-none-any.whl.metadata (3.3 kB)\n",
      "Requirement already satisfied: googleapis-common-protos<2.0.dev0,>=1.56.2 in c:\\users\\ikhba\\documents\\react\\.conda\\lib\\site-packages (from google-api-core!=2.0.*,!=2.1.*,!=2.10.*,!=2.2.*,!=2.3.*,!=2.4.*,!=2.5.*,!=2.6.*,!=2.7.*,!=2.8.*,!=2.9.*,<3.0.0dev,>=1.34.1->google-api-core[grpc]!=2.0.*,!=2.1.*,!=2.10.*,!=2.2.*,!=2.3.*,!=2.4.*,!=2.5.*,!=2.6.*,!=2.7.*,!=2.8.*,!=2.9.*,<3.0.0dev,>=1.34.1->google-cloud-translate) (1.66.0)\n",
      "Requirement already satisfied: requests<3.0.0.dev0,>=2.18.0 in c:\\users\\ikhba\\documents\\react\\.conda\\lib\\site-packages (from google-api-core!=2.0.*,!=2.1.*,!=2.10.*,!=2.2.*,!=2.3.*,!=2.4.*,!=2.5.*,!=2.6.*,!=2.7.*,!=2.8.*,!=2.9.*,<3.0.0dev,>=1.34.1->google-api-core[grpc]!=2.0.*,!=2.1.*,!=2.10.*,!=2.2.*,!=2.3.*,!=2.4.*,!=2.5.*,!=2.6.*,!=2.7.*,!=2.8.*,!=2.9.*,<3.0.0dev,>=1.34.1->google-cloud-translate) (2.32.3)\n",
      "Requirement already satisfied: grpcio<2.0dev,>=1.33.2 in c:\\users\\ikhba\\documents\\react\\.conda\\lib\\site-packages (from google-api-core[grpc]!=2.0.*,!=2.1.*,!=2.10.*,!=2.2.*,!=2.3.*,!=2.4.*,!=2.5.*,!=2.6.*,!=2.7.*,!=2.8.*,!=2.9.*,<3.0.0dev,>=1.34.1->google-cloud-translate) (1.68.1)\n",
      "Requirement already satisfied: grpcio-status<2.0.dev0,>=1.33.2 in c:\\users\\ikhba\\documents\\react\\.conda\\lib\\site-packages (from google-api-core[grpc]!=2.0.*,!=2.1.*,!=2.10.*,!=2.2.*,!=2.3.*,!=2.4.*,!=2.5.*,!=2.6.*,!=2.7.*,!=2.8.*,!=2.9.*,<3.0.0dev,>=1.34.1->google-cloud-translate) (1.68.1)\n",
      "Requirement already satisfied: cachetools<6.0,>=2.0.0 in c:\\users\\ikhba\\documents\\react\\.conda\\lib\\site-packages (from google-auth!=2.24.0,!=2.25.0,<3.0.0dev,>=2.14.1->google-cloud-translate) (5.5.0)\n",
      "Requirement already satisfied: pyasn1-modules>=0.2.1 in c:\\users\\ikhba\\documents\\react\\.conda\\lib\\site-packages (from google-auth!=2.24.0,!=2.25.0,<3.0.0dev,>=2.14.1->google-cloud-translate) (0.4.1)\n",
      "Requirement already satisfied: rsa<5,>=3.1.4 in c:\\users\\ikhba\\documents\\react\\.conda\\lib\\site-packages (from google-auth!=2.24.0,!=2.25.0,<3.0.0dev,>=2.14.1->google-cloud-translate) (4.9)\n",
      "Requirement already satisfied: pyasn1<0.7.0,>=0.4.6 in c:\\users\\ikhba\\documents\\react\\.conda\\lib\\site-packages (from pyasn1-modules>=0.2.1->google-auth!=2.24.0,!=2.25.0,<3.0.0dev,>=2.14.1->google-cloud-translate) (0.6.1)\n",
      "Requirement already satisfied: charset-normalizer<4,>=2 in c:\\users\\ikhba\\documents\\react\\.conda\\lib\\site-packages (from requests<3.0.0.dev0,>=2.18.0->google-api-core!=2.0.*,!=2.1.*,!=2.10.*,!=2.2.*,!=2.3.*,!=2.4.*,!=2.5.*,!=2.6.*,!=2.7.*,!=2.8.*,!=2.9.*,<3.0.0dev,>=1.34.1->google-api-core[grpc]!=2.0.*,!=2.1.*,!=2.10.*,!=2.2.*,!=2.3.*,!=2.4.*,!=2.5.*,!=2.6.*,!=2.7.*,!=2.8.*,!=2.9.*,<3.0.0dev,>=1.34.1->google-cloud-translate) (3.3.2)\n",
      "Requirement already satisfied: idna<4,>=2.5 in c:\\users\\ikhba\\documents\\react\\.conda\\lib\\site-packages (from requests<3.0.0.dev0,>=2.18.0->google-api-core!=2.0.*,!=2.1.*,!=2.10.*,!=2.2.*,!=2.3.*,!=2.4.*,!=2.5.*,!=2.6.*,!=2.7.*,!=2.8.*,!=2.9.*,<3.0.0dev,>=1.34.1->google-api-core[grpc]!=2.0.*,!=2.1.*,!=2.10.*,!=2.2.*,!=2.3.*,!=2.4.*,!=2.5.*,!=2.6.*,!=2.7.*,!=2.8.*,!=2.9.*,<3.0.0dev,>=1.34.1->google-cloud-translate) (3.7)\n",
      "Requirement already satisfied: urllib3<3,>=1.21.1 in c:\\users\\ikhba\\documents\\react\\.conda\\lib\\site-packages (from requests<3.0.0.dev0,>=2.18.0->google-api-core!=2.0.*,!=2.1.*,!=2.10.*,!=2.2.*,!=2.3.*,!=2.4.*,!=2.5.*,!=2.6.*,!=2.7.*,!=2.8.*,!=2.9.*,<3.0.0dev,>=1.34.1->google-api-core[grpc]!=2.0.*,!=2.1.*,!=2.10.*,!=2.2.*,!=2.3.*,!=2.4.*,!=2.5.*,!=2.6.*,!=2.7.*,!=2.8.*,!=2.9.*,<3.0.0dev,>=1.34.1->google-cloud-translate) (2.2.2)\n",
      "Requirement already satisfied: certifi>=2017.4.17 in c:\\users\\ikhba\\documents\\react\\.conda\\lib\\site-packages (from requests<3.0.0.dev0,>=2.18.0->google-api-core!=2.0.*,!=2.1.*,!=2.10.*,!=2.2.*,!=2.3.*,!=2.4.*,!=2.5.*,!=2.6.*,!=2.7.*,!=2.8.*,!=2.9.*,<3.0.0dev,>=1.34.1->google-api-core[grpc]!=2.0.*,!=2.1.*,!=2.10.*,!=2.2.*,!=2.3.*,!=2.4.*,!=2.5.*,!=2.6.*,!=2.7.*,!=2.8.*,!=2.9.*,<3.0.0dev,>=1.34.1->google-cloud-translate) (2024.7.4)\n",
      "Downloading google_cloud_translate-3.18.0-py2.py3-none-any.whl (182 kB)\n",
      "Downloading google_cloud_core-2.4.1-py2.py3-none-any.whl (29 kB)\n",
      "Downloading grpc_google_iam_v1-0.13.1-py2.py3-none-any.whl (24 kB)\n",
      "Installing collected packages: grpc-google-iam-v1, google-cloud-core, google-cloud-translate\n",
      "Successfully installed google-cloud-core-2.4.1 google-cloud-translate-3.18.0 grpc-google-iam-v1-0.13.1\n"
     ]
    }
   ],
   "source": [
    "# !pip install google-cloud-translate"
   ]
  },
  {
   "cell_type": "code",
   "execution_count": null,
   "metadata": {},
   "outputs": [
    {
     "name": "stdout",
     "output_type": "stream",
     "text": [
      "Collecting google-api-python-client\n",
      "  Downloading google_api_python_client-2.154.0-py2.py3-none-any.whl.metadata (6.7 kB)\n",
      "Collecting httplib2<1.dev0,>=0.19.0 (from google-api-python-client)\n",
      "  Downloading httplib2-0.22.0-py3-none-any.whl.metadata (2.6 kB)\n",
      "Requirement already satisfied: google-auth!=2.24.0,!=2.25.0,<3.0.0.dev0,>=1.32.0 in c:\\users\\ikhba\\documents\\react\\.conda\\lib\\site-packages (from google-api-python-client) (2.36.0)\n",
      "Collecting google-auth-httplib2<1.0.0,>=0.2.0 (from google-api-python-client)\n",
      "  Downloading google_auth_httplib2-0.2.0-py2.py3-none-any.whl.metadata (2.2 kB)\n",
      "Requirement already satisfied: google-api-core!=2.0.*,!=2.1.*,!=2.2.*,!=2.3.0,<3.0.0.dev0,>=1.31.5 in c:\\users\\ikhba\\documents\\react\\.conda\\lib\\site-packages (from google-api-python-client) (2.23.0)\n",
      "Collecting uritemplate<5,>=3.0.1 (from google-api-python-client)\n",
      "  Downloading uritemplate-4.1.1-py2.py3-none-any.whl.metadata (2.9 kB)\n",
      "Requirement already satisfied: googleapis-common-protos<2.0.dev0,>=1.56.2 in c:\\users\\ikhba\\documents\\react\\.conda\\lib\\site-packages (from google-api-core!=2.0.*,!=2.1.*,!=2.2.*,!=2.3.0,<3.0.0.dev0,>=1.31.5->google-api-python-client) (1.66.0)\n",
      "Requirement already satisfied: protobuf!=3.20.0,!=3.20.1,!=4.21.0,!=4.21.1,!=4.21.2,!=4.21.3,!=4.21.4,!=4.21.5,<6.0.0.dev0,>=3.19.5 in c:\\users\\ikhba\\documents\\react\\.conda\\lib\\site-packages (from google-api-core!=2.0.*,!=2.1.*,!=2.2.*,!=2.3.0,<3.0.0.dev0,>=1.31.5->google-api-python-client) (5.29.1)\n",
      "Requirement already satisfied: proto-plus<2.0.0dev,>=1.22.3 in c:\\users\\ikhba\\documents\\react\\.conda\\lib\\site-packages (from google-api-core!=2.0.*,!=2.1.*,!=2.2.*,!=2.3.0,<3.0.0.dev0,>=1.31.5->google-api-python-client) (1.25.0)\n",
      "Requirement already satisfied: requests<3.0.0.dev0,>=2.18.0 in c:\\users\\ikhba\\documents\\react\\.conda\\lib\\site-packages (from google-api-core!=2.0.*,!=2.1.*,!=2.2.*,!=2.3.0,<3.0.0.dev0,>=1.31.5->google-api-python-client) (2.32.3)\n",
      "Requirement already satisfied: cachetools<6.0,>=2.0.0 in c:\\users\\ikhba\\documents\\react\\.conda\\lib\\site-packages (from google-auth!=2.24.0,!=2.25.0,<3.0.0.dev0,>=1.32.0->google-api-python-client) (5.5.0)\n",
      "Requirement already satisfied: pyasn1-modules>=0.2.1 in c:\\users\\ikhba\\documents\\react\\.conda\\lib\\site-packages (from google-auth!=2.24.0,!=2.25.0,<3.0.0.dev0,>=1.32.0->google-api-python-client) (0.4.1)\n",
      "Requirement already satisfied: rsa<5,>=3.1.4 in c:\\users\\ikhba\\documents\\react\\.conda\\lib\\site-packages (from google-auth!=2.24.0,!=2.25.0,<3.0.0.dev0,>=1.32.0->google-api-python-client) (4.9)\n",
      "Requirement already satisfied: pyparsing!=3.0.0,!=3.0.1,!=3.0.2,!=3.0.3,<4,>=2.4.2 in c:\\users\\ikhba\\documents\\react\\.conda\\lib\\site-packages (from httplib2<1.dev0,>=0.19.0->google-api-python-client) (3.1.2)\n",
      "Requirement already satisfied: pyasn1<0.7.0,>=0.4.6 in c:\\users\\ikhba\\documents\\react\\.conda\\lib\\site-packages (from pyasn1-modules>=0.2.1->google-auth!=2.24.0,!=2.25.0,<3.0.0.dev0,>=1.32.0->google-api-python-client) (0.6.1)\n",
      "Requirement already satisfied: charset-normalizer<4,>=2 in c:\\users\\ikhba\\documents\\react\\.conda\\lib\\site-packages (from requests<3.0.0.dev0,>=2.18.0->google-api-core!=2.0.*,!=2.1.*,!=2.2.*,!=2.3.0,<3.0.0.dev0,>=1.31.5->google-api-python-client) (3.3.2)\n",
      "Requirement already satisfied: idna<4,>=2.5 in c:\\users\\ikhba\\documents\\react\\.conda\\lib\\site-packages (from requests<3.0.0.dev0,>=2.18.0->google-api-core!=2.0.*,!=2.1.*,!=2.2.*,!=2.3.0,<3.0.0.dev0,>=1.31.5->google-api-python-client) (3.7)\n",
      "Requirement already satisfied: urllib3<3,>=1.21.1 in c:\\users\\ikhba\\documents\\react\\.conda\\lib\\site-packages (from requests<3.0.0.dev0,>=2.18.0->google-api-core!=2.0.*,!=2.1.*,!=2.2.*,!=2.3.0,<3.0.0.dev0,>=1.31.5->google-api-python-client) (2.2.2)\n",
      "Requirement already satisfied: certifi>=2017.4.17 in c:\\users\\ikhba\\documents\\react\\.conda\\lib\\site-packages (from requests<3.0.0.dev0,>=2.18.0->google-api-core!=2.0.*,!=2.1.*,!=2.2.*,!=2.3.0,<3.0.0.dev0,>=1.31.5->google-api-python-client) (2024.7.4)\n",
      "Downloading google_api_python_client-2.154.0-py2.py3-none-any.whl (12.6 MB)\n",
      "   ---------------------------------------- 0.0/12.6 MB ? eta -:--:--\n",
      "   ---------------------------------------- 0.0/12.6 MB ? eta -:--:--\n",
      "   -- ------------------------------------- 0.8/12.6 MB 3.4 MB/s eta 0:00:04\n",
      "   ---- ----------------------------------- 1.3/12.6 MB 2.8 MB/s eta 0:00:05\n",
      "   ----- ---------------------------------- 1.8/12.6 MB 2.7 MB/s eta 0:00:04\n",
      "   ------- -------------------------------- 2.4/12.6 MB 2.9 MB/s eta 0:00:04\n",
      "   --------- ------------------------------ 2.9/12.6 MB 2.8 MB/s eta 0:00:04\n",
      "   ---------- ----------------------------- 3.1/12.6 MB 2.6 MB/s eta 0:00:04\n",
      "   ----------- ---------------------------- 3.7/12.6 MB 2.5 MB/s eta 0:00:04\n",
      "   ------------ --------------------------- 3.9/12.6 MB 2.4 MB/s eta 0:00:04\n",
      "   -------------- ------------------------- 4.5/12.6 MB 2.3 MB/s eta 0:00:04\n",
      "   --------------- ------------------------ 4.7/12.6 MB 2.3 MB/s eta 0:00:04\n",
      "   --------------- ------------------------ 5.0/12.6 MB 2.2 MB/s eta 0:00:04\n",
      "   ----------------- ---------------------- 5.5/12.6 MB 2.1 MB/s eta 0:00:04\n",
      "   ------------------ --------------------- 5.8/12.6 MB 2.1 MB/s eta 0:00:04\n",
      "   ------------------- -------------------- 6.0/12.6 MB 2.1 MB/s eta 0:00:04\n",
      "   -------------------- ------------------- 6.3/12.6 MB 2.0 MB/s eta 0:00:04\n",
      "   -------------------- ------------------- 6.6/12.6 MB 2.0 MB/s eta 0:00:04\n",
      "   --------------------- ------------------ 6.8/12.6 MB 2.0 MB/s eta 0:00:03\n",
      "   ---------------------- ----------------- 7.1/12.6 MB 1.9 MB/s eta 0:00:03\n",
      "   ----------------------- ---------------- 7.3/12.6 MB 1.9 MB/s eta 0:00:03\n",
      "   ------------------------ --------------- 7.6/12.6 MB 1.8 MB/s eta 0:00:03\n",
      "   ------------------------- -------------- 7.9/12.6 MB 1.8 MB/s eta 0:00:03\n",
      "   ------------------------- -------------- 8.1/12.6 MB 1.7 MB/s eta 0:00:03\n",
      "   ------------------------- -------------- 8.1/12.6 MB 1.7 MB/s eta 0:00:03\n",
      "   -------------------------- ------------- 8.4/12.6 MB 1.7 MB/s eta 0:00:03\n",
      "   --------------------------- ------------ 8.7/12.6 MB 1.7 MB/s eta 0:00:03\n",
      "   ---------------------------- ----------- 8.9/12.6 MB 1.6 MB/s eta 0:00:03\n",
      "   ----------------------------- ---------- 9.2/12.6 MB 1.6 MB/s eta 0:00:03\n",
      "   ----------------------------- ---------- 9.2/12.6 MB 1.6 MB/s eta 0:00:03\n",
      "   ------------------------------ --------- 9.4/12.6 MB 1.6 MB/s eta 0:00:02\n",
      "   ------------------------------ --------- 9.7/12.6 MB 1.6 MB/s eta 0:00:02\n",
      "   ------------------------------- -------- 10.0/12.6 MB 1.5 MB/s eta 0:00:02\n",
      "   -------------------------------- ------- 10.2/12.6 MB 1.5 MB/s eta 0:00:02\n",
      "   --------------------------------- ------ 10.5/12.6 MB 1.5 MB/s eta 0:00:02\n",
      "   --------------------------------- ------ 10.5/12.6 MB 1.5 MB/s eta 0:00:02\n",
      "   ---------------------------------- ----- 10.7/12.6 MB 1.5 MB/s eta 0:00:02\n",
      "   ----------------------------------- ---- 11.0/12.6 MB 1.4 MB/s eta 0:00:02\n",
      "   ----------------------------------- ---- 11.0/12.6 MB 1.4 MB/s eta 0:00:02\n",
      "   ----------------------------------- ---- 11.0/12.6 MB 1.4 MB/s eta 0:00:02\n",
      "   ----------------------------------- ---- 11.3/12.6 MB 1.4 MB/s eta 0:00:01\n",
      "   ----------------------------------- ---- 11.3/12.6 MB 1.4 MB/s eta 0:00:01\n",
      "   ----------------------------------- ---- 11.3/12.6 MB 1.4 MB/s eta 0:00:01\n",
      "   ------------------------------------ --- 11.5/12.6 MB 1.3 MB/s eta 0:00:01\n",
      "   ------------------------------------ --- 11.5/12.6 MB 1.3 MB/s eta 0:00:01\n",
      "   ------------------------------------ --- 11.5/12.6 MB 1.3 MB/s eta 0:00:01\n",
      "   ------------------------------------ --- 11.5/12.6 MB 1.3 MB/s eta 0:00:01\n",
      "   ------------------------------------- -- 11.8/12.6 MB 1.2 MB/s eta 0:00:01\n",
      "   ------------------------------------- -- 11.8/12.6 MB 1.2 MB/s eta 0:00:01\n",
      "   ------------------------------------- -- 11.8/12.6 MB 1.2 MB/s eta 0:00:01\n",
      "   -------------------------------------- - 12.1/12.6 MB 1.2 MB/s eta 0:00:01\n",
      "   -------------------------------------- - 12.1/12.6 MB 1.2 MB/s eta 0:00:01\n",
      "   -------------------------------------- - 12.1/12.6 MB 1.2 MB/s eta 0:00:01\n",
      "   ---------------------------------------  12.3/12.6 MB 1.1 MB/s eta 0:00:01\n",
      "   ---------------------------------------  12.3/12.6 MB 1.1 MB/s eta 0:00:01\n",
      "   ---------------------------------------  12.3/12.6 MB 1.1 MB/s eta 0:00:01\n",
      "   ---------------------------------------- 12.6/12.6 MB 1.1 MB/s eta 0:00:00\n",
      "Downloading google_auth_httplib2-0.2.0-py2.py3-none-any.whl (9.3 kB)\n",
      "Downloading httplib2-0.22.0-py3-none-any.whl (96 kB)\n",
      "Downloading uritemplate-4.1.1-py2.py3-none-any.whl (10 kB)\n",
      "Installing collected packages: uritemplate, httplib2, google-auth-httplib2, google-api-python-client\n",
      "Successfully installed google-api-python-client-2.154.0 google-auth-httplib2-0.2.0 httplib2-0.22.0 uritemplate-4.1.1\n",
      "Collecting google-cloud\n",
      "  Downloading google_cloud-0.34.0-py2.py3-none-any.whl.metadata (2.7 kB)\n",
      "Downloading google_cloud-0.34.0-py2.py3-none-any.whl (1.8 kB)\n",
      "Installing collected packages: google-cloud\n",
      "Successfully installed google-cloud-0.34.0\n"
     ]
    }
   ],
   "source": [
    "# !pip install --upgrade google-api-python-client\n",
    "# !pip install --upgrade google-cloud"
   ]
  },
  {
   "cell_type": "code",
   "execution_count": null,
   "metadata": {},
   "outputs": [],
   "source": [
    "from google.cloud import translate_v2 as translate\n",
    "\n",
    "os.environ[\"GOOGLE_APPLICATION_CREDENTIALS\"] = 'gen-lang-client-0314852010-3b65ae414b7f.json'\n",
    "\n",
    "translate_client = translate.Client()"
   ]
  },
  {
   "cell_type": "code",
   "execution_count": 7,
   "metadata": {},
   "outputs": [],
   "source": [
    "def chroma_retrieval_tool(query): \n",
    "    # Retrieve documents relevant to the query \n",
    "    query_mn = translate_client.translate(query, target_language=\"mn\")[\"translatedText\"]\n",
    "    clas = generate_and_process('<s> bb: ' + query_mn)\n",
    "    docs = vectordb.similarity_search(query_mn, k=5, filter={\"type\": clas}) \n",
    "    # Combine retrieved documents into a single string for context \n",
    "    context = \"\\n\".join([doc.page_content for doc in docs]) \n",
    "    return context"
   ]
  },
  {
   "cell_type": "markdown",
   "metadata": {},
   "source": [
    "LLaMA generation"
   ]
  },
  {
   "cell_type": "code",
   "execution_count": 8,
   "metadata": {},
   "outputs": [],
   "source": [
    "from langchain_huggingface import HuggingFaceEndpoint\n",
    "\n",
    "repo_id = \"meta-llama/Meta-Llama-3-70B-Instruct\"\n",
    "\n",
    "llm = HuggingFaceEndpoint(\n",
    "    repo_id=repo_id,\n",
    "    temperature=0.1,\n",
    "    huggingfacehub_api_token=HUGGINGFACEHUB_API_TOKEN,\n",
    ")"
   ]
  },
  {
   "cell_type": "markdown",
   "metadata": {},
   "source": [
    "Agents"
   ]
  },
  {
   "cell_type": "code",
   "execution_count": 9,
   "metadata": {},
   "outputs": [],
   "source": [
    "from langchain.agents import load_tools, initialize_agent, Tool\n",
    "from langchain.memory import ConversationBufferMemory\n",
    "from langchain_core.prompts import PromptTemplate"
   ]
  },
  {
   "cell_type": "code",
   "execution_count": 10,
   "metadata": {},
   "outputs": [],
   "source": [
    "template = \"\"\"Доорх асуултанд хариулаарай. Хариулахад дараах мэдээллийг ашиглана уу. Хэрэв та хариултаа мэдэхгүй бол мэдэхгүй гэж хэлээрэй, хариулт зохиох гэж бүү оролдоорой. Хамгийн ихдээ гурван өгүүлбэр ашигла. Хариултаа аль болох товчхон бичээрэй. Хариултын төгсгөлд \"Асуусанд баярлалаа!\" гэж үргэлж хэлээрэй.\n",
    "    {context}\n",
    "    Асуулт: {query}\n",
    "    Хариулт: Хариулахад алхам алхмаар бодож үзье.\"\"\"\n",
    "\n",
    "# Define the REACT_DOCSTORE tool \n",
    "react_docstore_tool = Tool( \n",
    "    name=\"react-docstore\", \n",
    "    # description=\"A zero shot agent that does a reasoning step before acting. This agent has access to a document store that allows it to look up relevant information to answering the question.\", \n",
    "    description=\"Мэдээлэл авахдаа эхлээд боддог дараа нь үйлдэл хийдэг агент. Энэ агент нь асуултад хариулахын тулд холбогдох мэдээллийг хайх боломжтой мэдээллийн санг ашиглах боломжтой.\",\n",
    "    func=chroma_retrieval_tool \n",
    ")\n",
    "tools = load_tools([\"google-serper\", \"llm-math\"], llm=llm)\n",
    "# tools = load_tools([\"google-serper\"], llm=llm)\n",
    "tools.append(react_docstore_tool)"
   ]
  },
  {
   "cell_type": "code",
   "execution_count": 11,
   "metadata": {},
   "outputs": [
    {
     "name": "stderr",
     "output_type": "stream",
     "text": [
      "C:\\Users\\ikhba\\AppData\\Local\\Temp\\ipykernel_3176\\4260697762.py:4: LangChainDeprecationWarning: The function `initialize_agent` was deprecated in LangChain 0.1.0 and will be removed in 1.0. Use Use new agent constructor methods like create_react_agent, create_json_agent, create_structured_chat_agent, etc. instead.\n",
      "  agent = initialize_agent(\n"
     ]
    }
   ],
   "source": [
    "# Initialize conversation memory\n",
    "memory = ConversationBufferMemory()\n",
    "\n",
    "agent = initialize_agent(\n",
    "    tools, \n",
    "    llm, \n",
    "    agent=\"zero-shot-react-description\", \n",
    "    memory=memory, \n",
    "    verbose=True, \n",
    "    prompt=template\n",
    ")"
   ]
  },
  {
   "cell_type": "code",
   "execution_count": 16,
   "metadata": {},
   "outputs": [
    {
     "name": "stdout",
     "output_type": "stream",
     "text": [
      "\n",
      "\n",
      "\u001b[1m> Entering new AgentExecutor chain...\u001b[0m\n",
      "\u001b[32;1m\u001b[1;3m I need to find information about Hasbank's highest interest rate savings account.\n",
      "Action: google_serper\n",
      "Action Input: \"Hasbank highest interest rate savings account\"\u001b[0m\n",
      "Observation: \u001b[36;1m\u001b[1;3mBask Bank is known for its high-yielding Bask Interest Savings account. It's also known for a unique account, the Bask Mileage Savings account, where you can ... Missing: Hasbank | Show results with:Hasbank. Members without either Direct Deposit or Qualifying Deposits, during the 30-Day Evaluation Period will earn 1.20% APY on savings balances ( ... Missing: Hasbank | Show results with:Hasbank. The Ally Bank Savings Account is a high-yield savings option with no minimum deposit required to open and zero monthly fees. At 3.85% APY, this ... Missing: Hasbank | Show results with:Hasbank. The Openbank High Yield Savings has a high savings account interest rate of 5.00% (vary depending on location) APY. It doesn't charge any ... Missing: Hasbank | Show results with:Hasbank. Standout benefits: The Capital One 360 Performance Savings offers a solid 4.00% APY with no minimum balance requirements and zero monthly fees. Missing: Hasbank | Show results with:Hasbank. Ranking 16 High Yield Savings Account in 2025 (in no particular order): ➡️ Bank of America: https ... Duration: 14:01. Posted: Nov 10, 2024. Grow your savings with our high-interest savings account. · Start saving at 4.50% APY · No monthly fee with a Flagstar checking account. Missing: Hasbank | Show results with:Hasbank. The best high-yield savings accounts, typically offered by online banks, have high APYs, low account minimums, no fees and robust mobile banking platforms. When ... Missing: Hasbank | Show results with:Hasbank. Earn over 10x the national average* with a High Yield Savings rate of 4.37% Annual Percentage Yield · An Award Winning ... Missing: Hasbank | Show results with:Hasbank. Open a Bask Interest Savings Account online in 15 minutes or less. Start earning 4.65% APY 1 with no monthly account fees. Missing: Hasbank | Show results with:Hasbank.\u001b[0m\n",
      "Thought:\u001b[32;1m\u001b[1;3m It seems like the search results are not showing Hasbank's highest interest rate savings account. I need to try a different approach.\n",
      "Action: react-docstore\n",
      "Action Input: \"Hasbank savings account\"\u001b[0m\n",
      "Observation: \u001b[38;5;200m\u001b[1;3m\u001b[0m\n",
      "Thought:\u001b[32;1m\u001b[1;3m It seems like there is no information about Hasbank's highest interest rate savings account in the react-docstore database. I need to try a different approach.\n",
      "Action: google_serper\n",
      "Action Input: \"Hasbank Mongolia savings account\"\u001b[0m\n",
      "Observation: \u001b[36;1m\u001b[1;3mIf you want to earn the highest interest income through saving for certain period, we recommend you XacBank's regular term deposit. Missing: Hasbank | Show results with:Hasbank. You can open bank accounts not only in MNT and USD, but also in EURO, RUB, JPY, CNY, and AUD and CAD to run your business easy. Missing: Hasbank | Show results with:Hasbank. We offer you the following options through corporate saving. Term and Interest, Minimum balance, Pre-mature withdrawals (annual). Missing: Hasbank | Show results with:Hasbank. Digital savings product. This product allows you to open an account online on any day of the year and earn high interest rates. Annual interest. 12.50%. More ... Missing: Hasbank | Show results with:Hasbank. XacBank JSC (XacBank), is a national private sector entity in Mongolia. The entity serves clients from individuals and micro-, small- and medium-sized ... Missing: Hasbank | Show results with:Hasbank. Earn high interest on your deposit · Interest is calculated on a compound bases every month · Manage your accounts anywhere with TDB Online internet banking ... Missing: Hasbank | Show results with:Hasbank. The Global Findex Database has been the definitive source of data on global access to financial services from payments to savings and borrowing. By 2007, Khan Bank was the largest Mongolian bank by assets, loans, deposits, and earnings. Today, the bank is one of the country's largest taxpayers. Missing: Hasbank account. Fitch Ratings has upgraded Mongolia-based XacBank JSC's Long-Term Issuer Default Ratings (IDRs) to 'B+' from 'B' and Viability Rating (VR) to 'b+' from 'b'. Missing: Hasbank | Show results with:Hasbank. There are several reasons to open an account. It keeps your money secure and can save you money from check cashing and money wire transfer businesses.\u001b[0m\n",
      "Thought:\u001b[32;1m\u001b[1;3m I think I found the information I need. Hasbank is a Mongolian bank, and it seems like they offer a digital savings product with an annual interest rate of 12.50%.\n",
      "Final Answer: Hasbank's highest interest rate savings account is their digital savings product with an annual interest rate of 12.50%.\u001b[0m\n",
      "\n",
      "\u001b[1m> Finished chain.\u001b[0m\n",
      "Хасбанкны хамгийн өндөр хүүтэй хадгаламж бол жилийн 12.50 хувийн хүүтэй дижитал хадгаламжийн бүтээгдэхүүн юм.\n"
     ]
    }
   ],
   "source": [
    "res = agent.run(\"Хасбанкны хамгийн өндөр хүүтэй хадгаламж ямар хадгаламж вэ?\")\n",
    "res = translate_client.translate(res, target_language=\"mn\")[\"translatedText\"]\n",
    "print(res)"
   ]
  },
  {
   "cell_type": "code",
   "execution_count": 20,
   "metadata": {},
   "outputs": [
    {
     "name": "stdout",
     "output_type": "stream",
     "text": [
      "\n",
      "\n",
      "\u001b[1m> Entering new AgentExecutor chain...\u001b[0m\n",
      "\u001b[32;1m\u001b[1;3m I need to find out what kind of issues are causing air pollution in Ulaanbaatar.\n",
      "Action: google_serper\n",
      "Action Input: \"air pollution in Ulaanbaatar\"\u001b[0m\n",
      "Observation: \u001b[36;1m\u001b[1;3mUlaanbaatar – home to half of Mongolia's three million population - is one of the most polluted capitals in the world. On the coldest days of the year, daily average of PM2. 5 pollution levels reach 687 micrograms per cubic meter — 27 times the level WHO recommends as safe.\u001b[0m\n",
      "Thought:\u001b[32;1m\u001b[1;3m I need to find out what are the main causes of air pollution in Ulaanbaatar.\n",
      "Action: google_serper\n",
      "Action Input: \"main causes of air pollution in Ulaanbaatar\"\u001b[0m\n",
      "Observation: \u001b[36;1m\u001b[1;3m“The coal used in the stoves is a primary cause of Ulaanbaatar's air pollution.”\u001b[0m\n",
      "Thought:\u001b[32;1m\u001b[1;3m I need to find out more about the coal used in stoves in Ulaanbaatar.\n",
      "Action: google_serper\n",
      "Action Input: \"coal used in stoves in Ulaanbaatar\"\u001b[0m\n",
      "Observation: \u001b[36;1m\u001b[1;3mHouseholds with energy efficient (EE) stoves fueled less often, but with more coal per fueling, resulting in no impacts on overall fuel usage (estimated 13 kg ... Around 95% of ger households in Ulaanbaatar use coal and firewood for heating and cooking [1]. Coal combustion in gers is the main source of air ... On May 15, the city implemented — for the first time in history — a ban on raw coal use. But will that make a difference? Winter will be a test. Many Mongolian families, including most of the population of Ulaanbaatar, live in traditional huts called yurts or gers burn raw coal in individual coal stoves, ... Burning coal for domestic heating may contribute to early fetal death according to a new study by experts from The Saban Research Institute ... Air pollution levels in Ulaanbaatar, Mongolia's capital, are among the highest in the world. Coal-burning heating stoves used in the Gers (traditional dwellings) ... Carbon monoxide levels in households using coal-briquette fuelled stoves exceed WHO air quality guidelines in Ulaanbaatar, Mongolia · Abstract. Many residents of Ulan Bator, Mongolia, use coal-burning stoves during the winter months when staying warm is a matter of survival. Carbon monoxide levels in households using coal-briquette fuelled stoves exceed WHO air quality guidelines in Ulaanbaatar, Mongolia · ABSTRACT. Limiting coal stoves to occasional use would already provide large benefits for air quality in Ulaanbaatar. Therefore, it is not necessary ...\u001b[0m\n",
      "Thought:\u001b[32;1m\u001b[1;3m I now know the final answer\n",
      "Final Answer: The main causes of air pollution in Ulaanbaatar are the coal used in stoves, coal combustion in gers, and burning coal for domestic heating.\u001b[0m\n",
      "\n",
      "\u001b[1m> Finished chain.\u001b[0m\n"
     ]
    },
    {
     "data": {
      "text/plain": [
       "'The main causes of air pollution in Ulaanbaatar are the coal used in stoves, coal combustion in gers, and burning coal for domestic heating.'"
      ]
     },
     "execution_count": 20,
     "metadata": {},
     "output_type": "execute_result"
    }
   ],
   "source": [
    "agent.run(\"Улаанбаатарт үеэр болоод байна. Ямар асуудлаас болж байна вэ? Жагсааж бич.\")"
   ]
  },
  {
   "cell_type": "code",
   "execution_count": 22,
   "metadata": {},
   "outputs": [
    {
     "name": "stdout",
     "output_type": "stream",
     "text": [
      "\n",
      "\n",
      "\u001b[1m> Entering new AgentExecutor chain...\u001b[0m\n",
      "\u001b[32;1m\u001b[1;3m I need to find the current exchange rate of the USD to MNT.\n",
      "Action: google_serper\n",
      "Action Input: \"current exchange rate USD to MNT\"\u001b[0m\n",
      "Observation: \u001b[36;1m\u001b[1;3mLatest Currency Exchange Rates: 1 US Dollar = 3398 Mongolian Tugrik.\u001b[0m\n",
      "Thought:\u001b[32;1m\u001b[1;3m I have the current exchange rate.\n",
      "Final Answer: 1 USD is equal to 3398 MNT.\u001b[0m\n",
      "\n",
      "\u001b[1m> Finished chain.\u001b[0m\n"
     ]
    },
    {
     "data": {
      "text/plain": [
       "'1 USD is equal to 3398 MNT.'"
      ]
     },
     "execution_count": 22,
     "metadata": {},
     "output_type": "execute_result"
    }
   ],
   "source": [
    "agent.run(\"Хас банкны доллар, төгрөг валютын ханш хэд байна вэ?\")"
   ]
  },
  {
   "cell_type": "code",
   "execution_count": 24,
   "metadata": {},
   "outputs": [
    {
     "name": "stdout",
     "output_type": "stream",
     "text": [
      "\n",
      "\n",
      "\u001b[1m> Entering new AgentExecutor chain...\u001b[0m\n",
      "\u001b[32;1m\u001b[1;3m I need to find information about Hasbank's highest interest rate savings account.\n",
      "Action: google_serper\n",
      "Action Input: \"Hasbank highest interest rate savings account\"\u001b[0m\n",
      "Observation: \u001b[36;1m\u001b[1;3mBask Bank is known for its high-yielding Bask Interest Savings account. It's also known for a unique account, the Bask Mileage Savings account, where you can ... Missing: Hasbank | Show results with:Hasbank. Members without either Direct Deposit or Qualifying Deposits, during the 30-Day Evaluation Period will earn 1.20% APY on savings balances ( ... Missing: Hasbank | Show results with:Hasbank. The Ally Bank Savings Account is a high-yield savings option with no minimum deposit required to open and zero monthly fees. At 3.85% APY, this ... Missing: Hasbank | Show results with:Hasbank. The Openbank High Yield Savings has a high savings account interest rate of 5.00% (vary depending on location) APY. It doesn't charge any ... Missing: Hasbank | Show results with:Hasbank. Standout benefits: The Capital One 360 Performance Savings offers a solid 4.00% APY with no minimum balance requirements and zero monthly fees. Missing: Hasbank | Show results with:Hasbank. Unlike a traditional savings account, the EverBank Performance Savings account acts as a high-yield savings account. With an APY of 4.75%1 , our account is ... Missing: Hasbank | Show results with:Hasbank. The best high-yield savings accounts, typically offered by online banks, have high APYs, low account minimums, no fees and robust mobile banking platforms. When ... Missing: Hasbank | Show results with:Hasbank. Ranking 16 High Yield Savings Account in 2025 (in no particular order): ➡️ Bank of America: https ... Duration: 14:01. Posted: Nov 10, 2024. Grow your savings with our high-interest savings account. · Start saving at 4.50% APY · No monthly fee with a Flagstar checking account. Missing: Hasbank | Show results with:Hasbank. Earn over 10x the national average* with a High Yield Savings rate of 4.37% Annual Percentage Yield · An Award Winning ... Missing: Hasbank | Show results with:Hasbank.\u001b[0m\n",
      "Thought:\u001b[32;1m\u001b[1;3m It seems like the search results are not providing the information I need about Hasbank's highest interest rate savings account. I need to try a different approach.\n",
      "Action: react-docstore\n",
      "Action Input: \"Hasbank savings account\"\u001b[0m\n",
      "Observation: \u001b[38;5;200m\u001b[1;3mШинэ жилийн баярын өдрүүдэд ХасБанкны салбар нэгжүүдийн ажиллах цагийн хуваарь\\n\\nШинэ жилийн баярын өдрүүдэд ХасБанкны салбар нэгжүүдийн ажиллах цагийн хуваарьШинэ жилийн баярын өдрүүдэд ХасБанкны салбар нэгжүүдийн ажиллах цагийн хуваарь. Шинэ оноо аз жаргалаар дүүрэн угтаарай!\\n2015.02.16\n",
      "Шинэ жилийн баярын өдрүүдэд ХасБанкны салбар нэгжүүдийн ажиллах цагийн хуваарь\\n\\nШинэ жилийн баярын өдрүүдэд ХасБанкны салбар нэгжүүдийн ажиллах цагийн хуваарьШинэ жилийн баярын өдрүүдэд ХасБанкны салбар нэгжүүдийн ажиллах цагийн хуваарь. Шинэ оноо аз жаргалаар дүүрэн угтаарай!\\n2015.02.16\n",
      "Санхүүгийн тэргүүлэх үзүүлэлттэй ХасБанк\\n\\nСанхүүгийн тэргүүлэх үзүүлэлттэй ХасБанк\\n2012.09.05\n",
      "Нийгмийн хариуцлагаар тэргүүлэгч ХасБанк\\n\\nНийгмийн хариуцлагаар тэргүүлэгч ХасБанк\\n2012.09.10\n",
      "ХасБанк ХК-ийн хувьцаа эзэмшигчдийн ээлжит бус хурлын зар\\n\\nХасБанк ХК-ийн хувьцаа эзэмшигчдийн ээлжит бус хурлын зар\\n2023.08.22\u001b[0m\n",
      "Thought:\u001b[32;1m\u001b[1;3m It seems like the react-docstore is not providing the information I need about Hasbank's highest interest rate savings account. I need to try a different approach.\n",
      "Action: google_serper\n",
      "Action Input: \"Hasbank Mongolia savings account\"\u001b[0m\n",
      "Observation: \u001b[36;1m\u001b[1;3mIf you want to earn the highest interest income through saving for certain period, we recommend you XacBank's regular term deposit. Advantages:. Missing: Hasbank | Show results with:Hasbank. You can choose current account service in order to manage your business and individual accounts promptly and reliably. You can open bank accounts not only ... Missing: Hasbank | Show results with:Hasbank. We offer you the following options through corporate saving. Term and Interest, Minimum balance, Pre-mature withdrawals (annual). Missing: Hasbank | Show results with:Hasbank. Digital savings product. This product allows you to open an account online on any day of the year and earn high interest rates. Annual interest. 12.50%. More ... Missing: Hasbank | Show results with:Hasbank. - Register yourself in digital banking - Account management functions - Open new savings account - Apply for deposit backed loan - Request for consumer loan - ... 28 Jan 2019 / XacBank has become Mongolia's first private bank to fund the completion of a large-scale, solar plant in a financing partnership with GCF. XacBank ... Missing: Hasbank | Show results with:Hasbank. Open the Mac App Store to buy and download apps. XacBank 4+. Xac Bank. Designed for iPad. Online bank · Home; Savings account. Huuhdiin hadgalamj ... Compound interest term deposit. Earn high interest on your deposit ... Mongolia. email icon. info@tdbm. Missing: Hasbank | Show results with:Hasbank. XacBank: Mobile Banking App for Android. If ... Want to open a mutual savings account? ... A full version app for Android, by Net App. Khan Bank. 5. Fitch expects the bank to sustain its intrinsic credit profile in line with Mongolia's economic growth in the medium term. Better OE: Fitch has ... Missing: Hasbank | Show results with:Hasbank.\u001b[0m\n",
      "Thought:\u001b[32;1m\u001b[1;3m It seems like the search results are still not providing the information I need about Hasbank's highest interest rate savings account. I need to try a different approach.\n",
      "Action: react-docstore\n",
      "Action Input: \"Hasbank Mongolia savings account interest rate\"\u001b[0m\n",
      "Observation: \u001b[38;5;200m\u001b[1;3mбус хөдөлмөр эрхлэгчдэд жижиг зээл олгох” тендерт амжилттай оролцож 2009 оны 12 дугаар сарын 29-ний өдөр ХХVГ-тай гэрээ байгуулснаар 2,9 тэрбум төгрөгийн эх үүсвэрийг УБ хотын бүх дүүрэг болон  Дархан-Уул, Орхон, Говьсүмбэр, Өмнөговь, Сэлэнгэ аймгуудад олгох эрхийг авлаа.2010 оны 1 дүгээр сарын 14 нд ХЭДС-ын зээлийг  олгох ажлын хүрээнд ХасБанкны дүүргүүдийн салбарын захирлууд  Хөдөлмөр, халамжийн үйлчилгээний дүүргүүдийн хэлтсийн дарга нартай хамтран ажиллах гэрээ байгууллаа.Зээлийн ерөнхий нөхцөл:- Зээлийн хүү:     1,25%- Зээлийн хэмжээ:Иргэн    -  (5.0 сая төгрөг хүртэл)ААН    -  (10.0 сая төгрөг хүртэл)Санхүүгийн түрээсээр  –  (1.0  сая төгрөг хүртэл)- Дэлгэрэнгүй мэдээллийг ХасБанкны 1888 утсаар лавлана уу\\n2011.11.04\n",
      "Хугацаагүй хадгаламж\n",
      "Дансны доод үлдэгдэл\n",
      "10,000₮\n",
      "зарласан хүү\n",
      "төгрөг: 3.60%-4.80%\n",
      "Гадаад валют: 0.8%-1.0%\n",
      "Бодит хүү\n",
      "ТӨГРӨГ: 3.66%-4.91%\n",
      "ГАДААД ВАЛЮТ: 0.8%-1.0%\\n\\nХугацаагүй хадгаламж\n",
      "Харилцагч та хүссэн үедээ орлого зарлагын гүйлгээ хийж, хүүгийн орлого олох хүсэлтэй бол ХасБанкны хугацаагүй хадгаламжийг сонгоорой.\n",
      "Давуу тал\n",
      "Орлого, зарлагын гүйлгээний хязгаарлалтгүй;\n",
      "Хүүг нийлмэл аргаар буюу хүүнээс хүү бодогддог;\n",
      "Хадгаламжийн үлдэгдэл дүн өсөх тутам хүүгийн хувь хэмжээ өсдөг;\n",
      "Цахим банкны үйлчилгээнд бүртгүүлж, банканд ирэхгүйгээр интернет, гар утас ашиглан дансны үлдэгдлээ шалгах, гүйлгээ хийж, дансаа удирдах боломжтой.\n",
      "Бүтээгдэхүүний нөхцөл\n",
      "ВАЛЮТЫН ТӨРӨЛ\n",
      "ДАНСНЫ НЭЭХ ДООД ҮЛДЭГДЭЛ\n",
      "ХҮҮ\n",
      "ДАНС ХӨТӨЛСНИЙ ШИМТГЭЛ\n",
      "(САР БҮР)\n",
      "ИДЭВХГҮЙ ДАНСНЫ ХУРААМЖ**\n",
      "(САР БҮР)\n",
      "ДАНСНЫ ҮЛДЭГДЭЛ\n",
      "ЗАРЛАСАН ХҮҮ\n",
      "БОДИТ ХҮҮ*\n",
      "Төгрөг\n",
      "10,000\n",
      "50 сая төгрөг хүртэл\n",
      "3.60%***\n",
      "3.66%\n",
      "100\n",
      "200\n",
      "50 сая төгрөгөөс дээш\n",
      "4.80%***\n",
      "4.91%\n",
      "Ам.доллар\n",
      "10\n",
      "1.00%\n",
      "1.00%\n",
      "0.1\n",
      "0.2\n",
      "Евро\n",
      "10\n",
      "1.00%\n",
      "1.00%\n",
      "0.1\n",
      "0.2\n",
      "Юань\n",
      "50\n",
      "0.80%\n",
      "0.80%\n",
      "0.5\n",
      "1\n",
      "Иень\n",
      "ХасБанкны данс хоорондын гүйлгээнд шимтгэлгүй;\n",
      "Дансны мэдээллээ цахим хаягаар хүлээн авах;\n",
      "24 цагийн турш дансаа онлайнаар удирдах.\n",
      "Бүтээгдэхүүний нөхцөл:\n",
      "Нөхцөл\n",
      "MNT\n",
      "USD\n",
      "Eur\n",
      "RUb\n",
      "jpy\n",
      "cny\n",
      "cad\n",
      "aud\n",
      "gbp\n",
      "krw\n",
      "Зарласан\n",
      "Бодит\n",
      "Хүүгийн хувь хэмжээ*\n",
      "100,000,000 ₮ хүртэл\n",
      "0.00%\n",
      "0.00%\n",
      "-\n",
      "-\n",
      "-\n",
      "-\n",
      "-\n",
      "-\n",
      "-\n",
      "-\n",
      "-\n",
      "100,000,001 ₮ – 1,000,000,000 ₮\n",
      "0.80%\n",
      "0.80%\n",
      "1,000,000,001 ₮-с дээш\n",
      "1.20%\n",
      "1.21%\n",
      "Харилцах дансанд заавал байлгах үлдэгдлийн доод хэмжээ\n",
      "10,000\n",
      "10\n",
      "10\n",
      "250\n",
      "1,000\n",
      "50\n",
      "10\n",
      "10\n",
      "10\n",
      "20,000\n",
      "Данс хөтөлсний шимтгэл (сар бүр)\n",
      "1,000\n",
      "1\n",
      "1\n",
      "25\n",
      "80\n",
      "5\n",
      "1\n",
      "1\n",
      "1\n",
      "1,000\n",
      "Данс нээхэд\n",
      "Хураамжгүй\n",
      "Данс хаах хураамж\n",
      "3,000₮\n",
      "* Монголбанкны Ерөнхийлөгч, Санхүүгийн зохицуулах хорооны дарга, Сангийн сайдын 2023 оны 01 дүгээр сарын 09-ний өдрийн хамтарсан тушаалаар харилцах дансны үлдэгдэлд тооцох хүүгийн хэмжээг жилийн 3% хүртэл байхаар тогтоосон.\n",
      "бусад шимтгэл, хураамж\n",
      "үйлчилгээний төрөл\n",
      "Шимтгэлийн хувь, хэмжээ\n",
      "(мөнгөн тэмдэгтийн төрөл)\n",
      "Mnt\n",
      "usd\n",
      "eur\n",
      "cny\n",
      "jpy\n",
      "aud\n",
      "cad\n",
      "rub\n",
      "krw\n",
      "gbp\n",
      "Орлогын гүйлгээ\n",
      "Бэлэн бус орлого\n",
      "Шимтгэлгүй\n",
      "Бэлэн орлого\n",
      "Шимтгэлгүй\n",
      "Хугацаатай хадгаламж\n",
      "Дансны доод үлдэгдэл\n",
      "20,000₮\n",
      "Зарласан хүү\n",
      "9.0% - 12.0%\n",
      "Бодит хүү\n",
      "9.38% - 12.68%\\n\\nХугацаатай хадгаламж\n",
      "Харилцагч та тодорхой хугацаанд хуримтлал үүсгэн өндөр хүү бодуулан, хүүгийн орлого олох хүсэлтэй бол ХасБанкны хугацаатай хадгаламжийг сонгоорой.\n",
      "Давуу тал\n",
      "Хүссэн үедээ орлогын гүйлгээ хийх;\n",
      "Хүүг нийлмэл аргаар буюу хүүнээс хүү боддог;\n",
      "Хадгаламжийн үлдэгдэл дүн өсөх хүүгийн хувь хэмжээ өснө;\n",
      "Хадгаламжийн дансаа барьцаалан зээл авч богино хугацааны санхүүгийн хэрэгцээгээ шийдвэрлэх;\n",
      "Цахим банкны үйлчилгээнд бүртгүүлэн, банкинд ирэхгүйгээр интернет, гар утас ашиглан дансны үлдэгдлээ шалгах, гүйлгээ хийж, дансаа удирдах боломжтой;\n",
      "Орлого хүлээн авдаг дансаа хадгаламжийн данстай холбон\n",
      "Стэндинг ордер\n",
      "үйлчилгээг идэвхжүүлснээр тогтмол давтамжтайгаар орлогын гүйлгээ хадгаламжийн дансанд орох боломжтой.\n",
      "Бүтээгдэхүүний нөхцөл\n",
      "Валютын төрөл\n",
      "Доод үлдэгдэл\n",
      "Жилийн хүү\n",
      "2\n",
      "3 сар\n",
      "6 сар\n",
      "9 сар\n",
      "12 сар\n",
      "18 сар\n",
      "24 сар\n",
      "Гэрээ цуцлах хүү\n",
      "Төгрөг\n",
      "20,000\n",
      "Зарласан\n",
      "9.0%\n",
      "9.6%\n",
      "10.2%\n",
      "11.0%\n",
      "гэдгийг банкирууд баттай хэлж чадна.Хамгийн гол нь таны сонгосон байр эрчим хүчний хэмнэлттэй байх гэсэн хүнээ, хүрээлэн буй орчноо хайрласан #хүнлэг шийдвэрт суурилсан гэдгийг мартуузай.Танд хариуцлагатайгаар зээл олгох, байшин барьж өгөх байгууллагуудын дэлгэрэнгүй мэдээллийгhttps://www.xacbank.mn/product/1142энэ холбоосоор аваарай.\\n2021.07.08\u001b[0m\n",
      "Thought:\u001b[32;1m\u001b[1;3m I finally found the information I need about Hasbank's highest interest rate savings account. The highest interest rate is 4.80% for MNT and 1.00% for USD, EUR, and other currencies.\n",
      "Final Answer: The highest interest rate savings account at Hasbank is 4.80% for MNT and 1.00% for USD, EUR, and other currencies.\u001b[0m\n",
      "\n",
      "\u001b[1m> Finished chain.\u001b[0m\n"
     ]
    },
    {
     "data": {
      "text/plain": [
       "'The highest interest rate savings account at Hasbank is 4.80% for MNT and 1.00% for USD, EUR, and other currencies.'"
      ]
     },
     "execution_count": 24,
     "metadata": {},
     "output_type": "execute_result"
    }
   ],
   "source": [
    "agent.run(\"Хасбанкны хамгийн өндөр хүүтэй хадгаламж ямар хадгаламж вэ?\")"
   ]
  },
  {
   "cell_type": "code",
   "execution_count": 20,
   "metadata": {},
   "outputs": [],
   "source": [
    "import gradio as gr\n",
    "\n",
    "def get_agent_response(user_input):\n",
    "    res = agent.run(user_input)\n",
    "    res = translate_client.translate(res, target_language=\"mn\")[\"translatedText\"]\n",
    "    return res"
   ]
  },
  {
   "cell_type": "code",
   "execution_count": 21,
   "metadata": {},
   "outputs": [
    {
     "name": "stdout",
     "output_type": "stream",
     "text": [
      "* Running on local URL:  http://127.0.0.1:7860\n",
      "\n",
      "To create a public link, set `share=True` in `launch()`.\n"
     ]
    },
    {
     "data": {
      "text/html": [
       "<div><iframe src=\"http://127.0.0.1:7860/\" width=\"100%\" height=\"500\" allow=\"autoplay; camera; microphone; clipboard-read; clipboard-write;\" frameborder=\"0\" allowfullscreen></iframe></div>"
      ],
      "text/plain": [
       "<IPython.core.display.HTML object>"
      ]
     },
     "metadata": {},
     "output_type": "display_data"
    },
    {
     "data": {
      "text/plain": []
     },
     "execution_count": 21,
     "metadata": {},
     "output_type": "execute_result"
    }
   ],
   "source": [
    "# Create the Gradio interface\n",
    "iface = gr.Interface(\n",
    "    fn=get_agent_response,\n",
    "    inputs=gr.Textbox(lines=2, placeholder=\"Enter your question here...\"),\n",
    "    outputs=gr.Textbox(),\n",
    "    title=\"Multilingual ReAct Agent\",\n",
    "    description=\"Ask questions and get responses in Mongolian. The agent remembers the conversation history.\"\n",
    ")\n",
    "\n",
    "# Launch the interface\n",
    "iface.launch()"
   ]
  },
  {
   "cell_type": "code",
   "execution_count": 22,
   "metadata": {},
   "outputs": [
    {
     "name": "stdout",
     "output_type": "stream",
     "text": [
      "Closing server running on port: 7860\n"
     ]
    }
   ],
   "source": [
    "iface.close()"
   ]
  },
  {
   "cell_type": "code",
   "execution_count": null,
   "metadata": {},
   "outputs": [],
   "source": []
  }
 ],
 "metadata": {
  "kernelspec": {
   "display_name": "Python 3",
   "language": "python",
   "name": "python3"
  },
  "language_info": {
   "codemirror_mode": {
    "name": "ipython",
    "version": 3
   },
   "file_extension": ".py",
   "mimetype": "text/x-python",
   "name": "python",
   "nbconvert_exporter": "python",
   "pygments_lexer": "ipython3",
   "version": "3.10.14"
  }
 },
 "nbformat": 4,
 "nbformat_minor": 2
}

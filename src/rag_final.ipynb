{
 "cells": [
  {
   "cell_type": "code",
   "execution_count": null,
   "metadata": {},
   "outputs": [],
   "source": [
    "import os\n",
    "\n",
    "HUGGINGFACEHUB_API_TOKEN = \"\"\n",
    "os.environ[\"HUGGINGFACEHUB_API_TOKEN\"] = HUGGINGFACEHUB_API_TOKEN\n",
    "os.environ['OPENAI_API_KEY'] = ''"
   ]
  },
  {
   "cell_type": "markdown",
   "metadata": {},
   "source": [
    "Document loading"
   ]
  },
  {
   "cell_type": "code",
   "execution_count": 2,
   "metadata": {},
   "outputs": [
    {
     "data": {
      "text/plain": [
       "131072"
      ]
     },
     "execution_count": 2,
     "metadata": {},
     "output_type": "execute_result"
    }
   ],
   "source": [
    "import csv\n",
    "from langchain.schema import Document\n",
    "\n",
    "csv.field_size_limit(10 * 1024 * 1024)"
   ]
  },
  {
   "cell_type": "code",
   "execution_count": 3,
   "metadata": {},
   "outputs": [
    {
     "name": "stdout",
     "output_type": "stream",
     "text": [
      "664 71 50 418\n",
      "Нийт хуудасны тоо: 1203\n",
      "page_content='ХасБанк 2024 оны III улиралд 43.4 тэрбум төгрөгийн татварын дараах цэвэр ашигтай ажиллалаа\\n\\nХасБанк 2024 оны III улиралд 43.4 тэрбум төгрөгийн татварын дараах цэвэр ашигтай ажиллалааХасБанк 2024 оны III улиралд 43.4 тэрбум төгрөгийн (өмнөх улирлаас +0.4%) татварын дараах цэвэр ашигтай ажиллалаа. Ингэснээр жилийн өссөн дүнгээр татварын дараах цэвэр ашиг 128.7 тэрбум төгрөгт (өмнөх жилийн мөн үеэс +26.7%) хүрч, өөрийн хөрөнгийн өгөөж (annualized ROE) 26.2%,нэгж хувьцаанд ногдох цэвэр ашиг (EPS) 122.3 төгрөгтхүрлээ2024 оны III улирлын санхүүгийн үзүүлэлтээс онцолбол:Зээл ба санхүүгийн түрээсийн багц 3,609 тэрбум төгрөгт хүрч, өмнөх улирлаас 8.6%, оны эхнээс 31.2% өссөн нь III улирлын цэвэр хүүгийн орлогыг өмнөх улирлаас 9.0% өсөхөд нөлөөлсөн байна.Активын чанарын үзүүлэлт тогтвортой сайн хэвээр байгаа бөгөөд нийт зээл болон санхүүгийн түрээсийн багцад эзлэх чанаргүй зээлийг 2.2%-д удирдан ажиллаж байна.Харилцах, хадгаламжийн эх үүсвэр өмнөх улирлаас 0.1%-аар, оны эхнээс 11.3%-аар өсөж, 3,202 тэрбум төгрөгт хүрлээ.2024 оны эхний хагас жилийн цэвэр ашгаас нэгж хувьцаанд 18 төгрөг буюу нийт 18.9 тэрбум төгрөгийн ногдол ашиг хувьцаа эзэмшигчдэд хуваарилсан бөгөөд IPO хийснээс хойш нийт 61.0 тэрбум төгрөгийг ногдол ашиг болгон олгоод байна.Тайлант хугацаанд ХасБанк Банкны тухай хуулиар болон Монголбанкнаас тогтоосон зохистой харьцааны шалгуур үзүүлэлтүүдийг бүрэн хангаж ажиллалаа. Үүнд:Нэгдүгээр зэрэглэлийн өөрийн хөрөнгө болон эрсдэлээр жигнэсэн активын зохистой харьцаа 18.2%(байвал зохих хэмжээ 12.5%). Ийнхүү давуулан биелүүлсэн нөөц өөрийн хөрөнгө нь аливаа болзошгүй эрсдэлийг даахаас гадна ирээдүйд активын тэлэлт хийх, ногдол ашиг тараах боломжийг бий болгодог.Төлбөр түргэн гүйцэтгэх чадварын харьцаа 34.5%(байвал зохих хэмжээ 25.0%) буюу ХасБанк бусдаас татан төвлөрүүлсэн нийт эх үүсвэрийнхээ 34.5% болох 1,682 тэрбум төгрөгийг бэлэн мөнгө болон түргэн борлогдох активт байршуулан удирдаж байна.ХасБанкны 2024 оны III улирлын санхүүгийн байдал болон орлого үр дүнгийн тайлантайЭНДдарж танилцана уу.\\n2024.10.14' metadata={'type': 'npa', 'title': 'ХасБанк 2024 оны III улиралд 43.4 тэрбум төгрөгийн татварын дараах цэвэр ашигтай ажиллалаа', 'source': 'https://www.xacbank.mn/article/financial-report-2024q3', 'date': '2024.10.14'}\n"
     ]
    }
   ],
   "source": [
    "DATA_DIR = \"../data/\"\n",
    "news_data = []\n",
    "with open(f\"{DATA_DIR}khas_bank_news.csv\", newline='', encoding='utf-8') as csvfile: \n",
    "    reader = csv.DictReader(csvfile, fieldnames=[\"Title\", \"Link\", \"Date\", \"Content\"]) \n",
    "    next(reader) # Skip the header row \n",
    "    for row in reader: \n",
    "        # Extract relevant information \n",
    "        title = row[\"Title\"] \n",
    "        link = row[\"Link\"] \n",
    "        date = row[\"Date\"] \n",
    "        content = title + \"\\\\n\\\\n\" + row[\"Content\"] + \"\\\\n\" + date \n",
    "        \n",
    "        # Create metadata dictionary \n",
    "        metadata = { \n",
    "            \"type\": \"npa\",\n",
    "            \"title\": title, \n",
    "            \"source\": link, \n",
    "            \"date\": date, \n",
    "        } \n",
    "        # Create a Langchain Document \n",
    "        document = Document(page_content=content, metadata=metadata) \n",
    "        news_data.append(document)\n",
    "\n",
    "product_data = []\n",
    "with open(f\"{DATA_DIR}khas_bank_products.csv\", newline='', encoding='utf-8') as csvfile: \n",
    "    reader = csv.DictReader(csvfile, fieldnames=[\"Page ID\", \"Main Text\", \"Side Menu Text\", \"link\"]) \n",
    "    next(reader) # Skip the header row \n",
    "    for row in reader: \n",
    "        # Extract relevant information \n",
    "        title = row[\"Page ID\"] \n",
    "        link = row[\"link\"] \n",
    "        content = row[\"Side Menu Text\"] + \"\\\\n\\\\n\" + row[\"Main Text\"]\n",
    "        \n",
    "        # Create metadata dictionary \n",
    "        metadata = {\n",
    "            \"type\": \"pro\", \n",
    "            \"title\": title, \n",
    "            \"source\": link\n",
    "        } \n",
    "        # Create a Langchain Document \n",
    "        document = Document(page_content=content, metadata=metadata) \n",
    "        product_data.append(document)\n",
    "\n",
    "pages_data = []\n",
    "with open(f\"{DATA_DIR}khas_bank_pages.csv\", newline='', encoding='utf-8') as csvfile: \n",
    "    reader = csv.DictReader(csvfile, fieldnames=[\"Title Text\", \"Main Text\", \"link\"]) \n",
    "    next(reader) # Skip the header row \n",
    "    for row in reader: \n",
    "        # Extract relevant information \n",
    "        title = row[\"Title Text\"] \n",
    "        link = row[\"link\"] \n",
    "        content = row[\"Title Text\"] + \"\\\\n\\\\n\" + row[\"Main Text\"]\n",
    "        \n",
    "        # Create metadata dictionary \n",
    "        metadata = {\n",
    "            \"type\": \"npa\", \n",
    "            \"title\": title, \n",
    "            \"source\": link\n",
    "        } \n",
    "        # Create a Langchain Document \n",
    "        document = Document(page_content=content, metadata=metadata) \n",
    "        pages_data.append(document)\n",
    "\n",
    "branch_data = []\n",
    "with open(f\"{DATA_DIR}khas_bank_branches.csv\", newline='', encoding='utf-8') as csvfile: \n",
    "    reader = csv.DictReader(csvfile, fieldnames=[\"name\",\"name_en\",\"type\",\"address\",\"address_en\",\"timetable\",\"timetable_en\",\"phone\",\"mon\",\"tue\",\"wed\",\"thu\",\"fri\",\"sat\",\"sun\",\"open_time\",\"close_time\"]) \n",
    "    next(reader) # Skip the header row \n",
    "    for row in reader: \n",
    "        # Extract relevant information \n",
    "        title = row[\"name\"]\n",
    "        type_suffix = \"салбар\" if row[\"type\"] == \"branch\" else \"АТМ\"\n",
    "\n",
    "        content = ( \n",
    "            f\"{row['name']} {type_suffix} \\\\n\\\\n\" \n",
    "            f\"Салбар: {row['address']} \\\\n\" \n",
    "            f\"Цагийн хуваарь: {row['timetable']} \\\\n\" \n",
    "            f\"Утас: {row['phone']} \\\\n\" \n",
    "        )\n",
    "        \n",
    "        # Create metadata dictionary \n",
    "        metadata = {\n",
    "            \"type\": \"bra\", \n",
    "            \"source\": title\n",
    "        } \n",
    "        # Create a Langchain Document \n",
    "        document = Document(page_content=content, metadata=metadata) \n",
    "        branch_data.append(document)\n",
    "\n",
    "all_data = news_data + product_data + pages_data + branch_data\n",
    "print(len(news_data), len(product_data), len(pages_data), len(branch_data))\n",
    "print(f\"Нийт хуудасны тоо: {len(all_data)}\")\n",
    "print(all_data[0])"
   ]
  },
  {
   "cell_type": "code",
   "execution_count": 4,
   "metadata": {},
   "outputs": [],
   "source": [
    "from langchain.text_splitter import RecursiveCharacterTextSplitter"
   ]
  },
  {
   "cell_type": "code",
   "execution_count": 5,
   "metadata": {},
   "outputs": [
    {
     "name": "stdout",
     "output_type": "stream",
     "text": [
      "2832\n",
      "1203\n"
     ]
    }
   ],
   "source": [
    "text_splitter = RecursiveCharacterTextSplitter(\n",
    "    chunk_size=1000, chunk_overlap=100\n",
    ")\n",
    "docs = text_splitter.split_documents(documents=all_data)\n",
    "\n",
    "print(len(docs))\n",
    "print(len(all_data))"
   ]
  },
  {
   "cell_type": "markdown",
   "metadata": {},
   "source": [
    "Find which class prompt belongs to"
   ]
  },
  {
   "cell_type": "code",
   "execution_count": 6,
   "metadata": {},
   "outputs": [
    {
     "name": "stderr",
     "output_type": "stream",
     "text": [
      "c:\\Users\\ikhba\\Documents\\RAG\\.conda\\lib\\site-packages\\tqdm\\auto.py:21: TqdmWarning: IProgress not found. Please update jupyter and ipywidgets. See https://ipywidgets.readthedocs.io/en/stable/user_install.html\n",
      "  from .autonotebook import tqdm as notebook_tqdm\n"
     ]
    }
   ],
   "source": [
    "from transformers import AutoTokenizer\n",
    "\n",
    "tokenizer = AutoTokenizer.from_pretrained(\"bayartsogt/mongolian-gpt2\")\n",
    "tokenizer.pad_token = tokenizer.eos_token"
   ]
  },
  {
   "cell_type": "code",
   "execution_count": 7,
   "metadata": {},
   "outputs": [],
   "source": [
    "from transformers import pipeline\n",
    "\n",
    "generator = pipeline(\"text-generation\", model=\"Ikhee10/khasbank_three_classifier\", tokenizer = tokenizer, device=0, num_beams=5)"
   ]
  },
  {
   "cell_type": "code",
   "execution_count": 8,
   "metadata": {},
   "outputs": [],
   "source": [
    "import re\n",
    "\n",
    "def process_generated_text(text):\n",
    "    # Example regex to extract data in the format you've specified\n",
    "    matches = re.findall(r'<(.*?)>', text)\n",
    "    ans = matches[1] if len(matches) > 0 else ''\n",
    "    if ' ' in ans:\n",
    "        ans = ans.split(' ')[0].strip()\n",
    "    return ans\n",
    "    \n",
    "def generate_and_process(prompt):\n",
    "    result = generator(prompt, max_length=32, pad_token_id=tokenizer.eos_token_id)\n",
    "    generated_text = result[0]['generated_text']\n",
    "\n",
    "    return process_generated_text(generated_text)"
   ]
  },
  {
   "cell_type": "code",
   "execution_count": null,
   "metadata": {},
   "outputs": [],
   "source": []
  },
  {
   "cell_type": "code",
   "execution_count": 6,
   "metadata": {},
   "outputs": [
    {
     "name": "stderr",
     "output_type": "stream",
     "text": [
      "The system cannot find the file specified.\n",
      "The system cannot find the file specified.\n",
      "The system cannot find the file specified.\n",
      "The system cannot find the file specified.\n",
      "The system cannot find the file specified.\n",
      "The system cannot find the file specified.\n",
      "The system cannot find the file specified.\n"
     ]
    }
   ],
   "source": [
    "!rd /s /q \"../docs/chroma14\"  # remove old database files if any"
   ]
  },
  {
   "cell_type": "markdown",
   "metadata": {},
   "source": [
    "Embeddings"
   ]
  },
  {
   "cell_type": "code",
   "execution_count": null,
   "metadata": {},
   "outputs": [],
   "source": [
    "import openai\n",
    "import numpy as np\n",
    "\n",
    "openai.api_key = ''"
   ]
  },
  {
   "cell_type": "code",
   "execution_count": 6,
   "metadata": {},
   "outputs": [],
   "source": [
    "from langchain_openai import OpenAIEmbeddings\n",
    "embedding = OpenAIEmbeddings(\n",
    "    model=\"text-embedding-3-large\",\n",
    ")"
   ]
  },
  {
   "cell_type": "code",
   "execution_count": 1,
   "metadata": {},
   "outputs": [],
   "source": [
    "from langchain.vectorstores import Chroma\n",
    "\n",
    "persist_directory = '../docs/chroma14'"
   ]
  },
  {
   "cell_type": "code",
   "execution_count": null,
   "metadata": {},
   "outputs": [],
   "source": [
    "vectordb = Chroma.from_documents(\n",
    "    documents=docs,\n",
    "    embedding=embedding,\n",
    "    persist_directory=persist_directory,\n",
    "    collection_name='v_db',\n",
    ")"
   ]
  },
  {
   "cell_type": "code",
   "execution_count": 10,
   "metadata": {},
   "outputs": [
    {
     "name": "stdout",
     "output_type": "stream",
     "text": [
      "2832\n"
     ]
    }
   ],
   "source": [
    "print(vectordb._collection.count())"
   ]
  },
  {
   "cell_type": "code",
   "execution_count": 11,
   "metadata": {},
   "outputs": [
    {
     "name": "stderr",
     "output_type": "stream",
     "text": [
      "C:\\Users\\ikhba\\AppData\\Local\\Temp\\ipykernel_36420\\3711397106.py:1: LangChainDeprecationWarning: Since Chroma 0.4.x the manual persistence method is no longer supported as docs are automatically persisted.\n",
      "  vectordb.persist()\n"
     ]
    }
   ],
   "source": [
    "vectordb.persist()"
   ]
  },
  {
   "cell_type": "code",
   "execution_count": 7,
   "metadata": {},
   "outputs": [
    {
     "name": "stderr",
     "output_type": "stream",
     "text": [
      "C:\\Users\\ikhba\\AppData\\Local\\Temp\\ipykernel_26208\\837188166.py:2: LangChainDeprecationWarning: The class `Chroma` was deprecated in LangChain 0.2.9 and will be removed in 0.4. An updated version of the class exists in the :class:`~langchain-chroma package and should be used instead. To use it run `pip install -U :class:`~langchain-chroma` and import as `from :class:`~langchain_chroma import Chroma``.\n",
      "  vectordb = Chroma(collection_name='v_db', persist_directory='../docs/chroma14', embedding_function=embedding)\n"
     ]
    }
   ],
   "source": [
    "# Load from disk\n",
    "vectordb = Chroma(collection_name='v_db', persist_directory='../docs/chroma14', embedding_function=embedding)"
   ]
  },
  {
   "cell_type": "markdown",
   "metadata": {},
   "source": [
    "Similarity Search"
   ]
  },
  {
   "cell_type": "code",
   "execution_count": 15,
   "metadata": {},
   "outputs": [
    {
     "name": "stdout",
     "output_type": "stream",
     "text": [
      "page_content='Хан-Уул салбар ATM АТМ \\n\\nСалбар: 3-р хороо, Чингисийн өргөн чөлөө\n",
      "Хан-Уул дүүрэг цагаан хаалга \\nЦагийн хуваарь: 24 цаг \\nУтас: 1800-1888 \\n' metadata={'source': 'Хан-Уул салбар ATM', 'type': 'bra'}\n",
      "page_content='Ханжаргалант тооцооны төв салбар \\n\\nСалбар: Улиастай сум, Богдын гол баг, \"Сэргээгдэх\" төв, 1-р давхарт\n",
      "3 үгт хаяг: /// эмхэтгэл.мэдэрч.ажигч \\nЦагийн хуваарь: Даваа - Баасан: 8:30-16:30\n",
      "Бямба, Ням: Амарна \\nУтас: 1800-1888 \\n' metadata={'source': 'Ханжаргалант тооцооны төв', 'type': 'bra'}\n",
      "page_content='Хонгор тооцооны төв салбар \\n\\nСалбар: Баянхонгор сум, 1-р  баг, \"Цэлмэг өглөө\" худалдааны төвийн 2-р давхарт\n",
      "3 үгт хаяг: /// давж.хэдийг.хацартай \\nЦагийн хуваарь: Даваа - Баасан: 10:00-18:00\n",
      "Бямба, Ням: Амарна \\nУтас: 1800-1888 \\n' metadata={'source': 'Хонгор тооцооны төв', 'type': 'bra'}\n",
      "page_content='Баянзүрх салбар салбар \\n\\nСалбар: Баянзүрх дүүрэг, Энх тайвны өргөн чөлөө 14-р хороолол,13 дугаар хороо, 92-А байр 201 тоот\n",
      "3 үгт хаяг: ///цамц.хатагтай.төрд  \\nЦагийн хуваарь: Даваа - Баасан: 9:00-17:00\n",
      "Бямба, Ням: Амарна \\nУтас: 1800-1888 \\n' metadata={'source': 'Баянзүрх салбар', 'type': 'bra'}\n",
      "page_content='Баянхонгор салбар салбар \\n\\nСалбар: Баянхонгор аймаг, Баянхонгор сум, 1-р баг, Номгон Лувсанданзанжанцан өргөн чөлөө, 4 гудамж, 436 байр, 1 давхарт\n",
      " 3 үгт хаяг: /// хурааж.гоёмсог.ухаантай \\nЦагийн хуваарь: Даваа - Баасан: 08:30-16:30\n",
      "Бямба, Ням: Амарна \\nУтас: 1800-1888 \\n' metadata={'source': 'Баянхонгор салбар', 'type': 'bra'}\n"
     ]
    }
   ],
   "source": [
    "query = \"Баянгол салбарын байршил хаана вэ?\"\n",
    "context = vectordb.similarity_search(query, k=5, filter={\"type\": \"bra\"})\n",
    "for c in context:\n",
    "    print(c)"
   ]
  },
  {
   "cell_type": "code",
   "execution_count": 13,
   "metadata": {},
   "outputs": [
    {
     "name": "stdout",
     "output_type": "stream",
     "text": [
      "page_content='Хадгаламжийн хайрцаг\\n\\nХадгаламжийн хайрцаг\n",
      "Үнэт зүйл хадгалах үйлчилгээ нь танд үнэт зүйлсээ гал, усны аюул болон хулгайд алдахаас сэргийлэх хамгийн хямд зөв арга зам юм. Бид таны эдгээр зүйлсийг хамгийн найдвартайгаар хадгалан хамгаална.\n",
      "Давуу тал:\n",
      "Өндөр үнэ цэнэтэй зүйлсдээ санаа зовох зүйлгүй найдвартай хадгална;\n",
      "Таны хайрцагт юу байгааг зөвхөн та л мэднэ;\n",
      "Таны хайрцаг гадны нөлөөлөлд тэсвэртэй, тусгай зориулалтын давхар ханаар хуяглагдсан;\n",
      "Таны эд зүйл хадгалж буй өрөөний хана, хаалга нь халдлагын эсрэг орчин үеийн 24 цагийн дохиолол хамгаалалтын системтэй;\n",
      "Банкны нийтэд үйлчлэх цагаар та хэдэн удаа ч хайрцагаа ашиглаж болно;\n",
      "Та өөрт шаардлагатай тооны хайрцгаа хүссэн хугацаагаар эзэмшиж болно;\n",
      "Хайрцгийг хамтран эзэмшиж, итгэмжлэх боломжтой.\n",
      "Хураамж, шимтгэл:\n",
      "Хураамжийн төрөл\n",
      "1 сарын хураамж /төгрөгөөр/\n",
      "Хайрцаг эзэмших гэрээ байгуулах\n",
      "-\n",
      "Хайрцаг эзэмших гэрээ сунгах\n",
      "-\n",
      "Хайрцагны төрөл\n",
      "Жижиг хайрцаг\n",
      "10,000\n",
      "Дунд хайрцаг\n",
      "12,000\n",
      "Том хайрцаг\n",
      "15,000\n",
      "Том хайрцаг\n",
      "20,000' metadata={'source': 'https://www.xacbank.mn/product/89', 'title': '89', 'type': 'pro'}\n",
      "page_content='Үндсэн хөрөнгийн зээл авах бол зээлийн шалгуурыг Энд дарж авна уу;\n",
      "Төслийн шалгуур хэсэгт заасан баримт бичгүүд.' metadata={'source': 'https://www.xacbank.mn/product/125', 'title': '125', 'type': 'pro'}\n",
      "page_content='Эргэлтийн хөрөнгийн зээл\n",
      "Хэмжээ\n",
      "2.5 тэрбум төгрөг хүртэл\n",
      "Хугацаа\n",
      "36 ХҮРТЭЛ САР\n",
      "Хүү /төгрөг/\n",
      "Сарын: 1.6% - 2.0%\n",
      "Жилийн: 19.2% - 24.0%\n",
      "Зээлийн хүсэлт илгээх\\n\\nЭргэлтийн хөрөнгийн зээл\n",
      "Харилцагч та бизнесийн хэвийн, тасралтгүй үйл ажиллагааг хангах, бизнесээ өргөжүүлэх зорилгоор эргэлтийн хөрөнгөө санхүүжүүлэх бол “Эргэлтийн хөрөнгийн зээл” авах боломжтой.\n",
      "Давуу тал\n",
      "Таны бизнесийн цар хүрээ, хөрөнгө санхүүгийн чадвараас хамаарч зээлийн хэмжээг тогтооно;\n",
      "Зээлийн сайн түүхтэй, ХасБанканд харилцах, хадгаламжийн данстай харилцагчид хүүг бууруулан тогтооно;\n",
      "Таны бизнесийн онцлог, улирлын шинж чанарт тохируулан зээлийн эргэн төлөлтийн уян хатан нөхцөл санал болгож, зээлийн үндсэн төлбөрөөс 8 хүртэл сараар чөлөөлнө;\n",
      "Эргэлтийн хөрөнгөө барьцаалан зээл авах боломжтой;\n",
      "Та зээлтэй хэдий ч дахин зээл олгож, нэмэлт хэрэгцээг санхүүжүүлнэ;\n",
      "Эргэлтийн хөрөнгийн зээлийг зээлийн шугам байдлаар авах боломжтой.\n",
      "Зээлийн зориулалт' metadata={'source': 'https://www.xacbank.mn/product/24', 'title': '24', 'type': 'pro'}\n",
      "page_content='Хадгаламж барьцаалсан зээл\n",
      "Хэмжээ\n",
      "Хадгаламжийн 80-85% хүртэл\n",
      "Хугацаа\n",
      "24 сар\n",
      "Хүү (жилийн)\n",
      "Хадгаламжийн жилийн хүү + /4%-7.2%/\\n\\nХадгаламж барьцаалсан зээл\n",
      "Харилцагч та гэнэтийн санхүүгийн хэрэгцээгээ шийдвэрлэх гэж байгаа бол “Хадгаламж барьцаалсан зээл”-ийг сонгоорой. Энэхүү хадгаламж барьцаалсан зээлийг сонгосноор та өөрийн хадгаламж болон хүүгийн хуримтлалд нөлөөлөхгүйгээр санхүүгийн хэрэгцээгээ богино хугацаанд шийдвэрлэх боломжтой.\n",
      "Бүтээгдэхүүнийн нөхцөл:\n",
      "ОЛГОХ ВАЛЮТ\n",
      "ХУГАЦАА\n",
      "ДЭЭД ХЭМЖЭЭ\n",
      "ДООД\n",
      "ХЭМЖЭЭ\n",
      "ЖИЛИЙН ХҮҮ\n",
      "(ХАДГАЛАМЖИЙН ХҮҮ + НЭМЭГДҮҮЛЭХ ХУВЬ)\n",
      "Зээл олголтын мөнгөн дүн\n",
      "Нэмэгдүүлэх хувь\n",
      "Төгрөг\n",
      "-\n",
      "Барьцаалж буй мөнгөн хадгаламжийн дансны валютаар\n",
      "Барьцаалж буй хадгаламжийн гэрээний хугацаанаас хэтрэхгүй буюу дээд хугацаа 24 сар\n",
      "Барьцаалж буй мөнгөн хадгаламжийн дансны үлдэгдэл дүнгийн 85% хүртэл\n",
      "Төгрөг - 100,000\n",
      "0.1-3 сая\n",
      "+7.20%\n",
      "-\n",
      "3.01-50 сая\n",
      "+6.40%\n",
      "50.01-100 сая\n",
      "+5.60%\n",
      "100.01-500 сая\n",
      "+4.80%\n",
      "500 сая-с дээш\n",
      "+4.00%\n",
      "ЦАХИМ БАНКААР дамжуулан хадгаламж барьцаалсан зээл авах:\n",
      "СУВАГ' metadata={'source': 'https://www.xacbank.mn/product/7', 'title': '7', 'type': 'pro'}\n",
      "page_content='Эд хөрөнгийн даатгал\n",
      "Бүрдүүлэх бичиг баримт\n",
      "Өмчлөгч, эзэмшигчийн мэдээлэл - Иргэний үнэмлэх, Байгууллагын гэрчилгээ;\n",
      "Хөрөнгийн гэрчилгээ, бичиг баримт;\n",
      "Хөрөнгийн нэр, марк, серийн дугаар болон бусад шаардлагатай мэдээллүүд;\n",
      "Хөрөнгийн зах зээлийн үнэлгээ, эсвэл худалдан авсан санхүүгийн баримт;\\n\\nЭд хөрөнгийн даатгал\n",
      "Бүх төрлийн биет хөрөнгийн (орон сууц, амины сууц, газар, байшин, гэр, тавилга, цахилгаан хэрэгсэл, тоног төхөөрөмж, хүнд даацын тээврийн хэрэгсэл, хүнд даацын механикм) өмчлөгч болон эзэмшигч нь тус хөрөнгөнд учрах боломжит эрсдүүлээс хамгаалан, түүнээс үүдэх үр дагавараас зайлсхийн даатгуулах боломжтой.\n",
      "Таны хөрөнгөнд өөрийн болон бусдын буруугаас эсвэл давагдашгүй хүчин зүйлийн нөлөөллөөс шалтгаалан учирсан хохирлыг урьдчилан тохиролцсон хариуцлагын дагуу хэсэгчлэн болон бүрэн нөхөн төлж, хохиролгүй, эрсдэлгүй амар тайван байх боломжийг олгох зорилготой даатгалын хэлбэр юм.\n",
      "Биет хөрөнгийг даатгуулахад тавигдах шаардлага\n",
      "Өмчлөгч эзэмшигч нь тодорхой байх;' metadata={'source': 'https://www.xacbank.mn/product/58', 'title': '58', 'type': 'pro'}\n"
     ]
    }
   ],
   "source": [
    "query = \"Хадгаламж зээл барьцаалсан зээлийн хүү хэд вэ\"\n",
    "context = vectordb.similarity_search(query, k=5, filter={\"type\":\"pro\"})\n",
    "for c in context:\n",
    "    print(c)"
   ]
  },
  {
   "cell_type": "code",
   "execution_count": 16,
   "metadata": {},
   "outputs": [
    {
     "name": "stdout",
     "output_type": "stream",
     "text": [
      "page_content='татаж авах\n",
      "/;\n",
      "Хуулийн этгээдийн улсын бүртгэлийн гэрчилгээ /нотариатаар батлуулсан хуулбарын хамт/;\n",
      "Гүйцэтгэх удирдлагын цээж зураг, иргэний үнэмлэхийн хуулбар /зөвхөн анх удаа зээл хүсэгчид хамаатай/;\n",
      "Үүсгэн байгуулагчдын хооронд байгуулсан гэрээ /нотариатаар батлуулсан хуулбарын хамт/;\n",
      "Өмнөх 1 жилийн болон сүүлийн улирлын Татварын албанаас баталгаажуулсан тайлан тэнцлийн хуулбар;\n",
      "Зээлээр санхүүжүүлэх үйл ажиллагаатай холбоотой гэрээ, хэлцлийн хуулбар;\n",
      "Барьцаалуулах хөрөнгийг өмчлөх эрхийн гэрчилгээ;\n",
      "Банкны зүгээс шаардлагатай гэж үзсэн бусад нэмэлт материал' metadata={'source': 'https://www.xacbank.mn/product/25', 'title': '25', 'type': 'pro'}\n",
      "page_content='** Даатгалын үнэлгээг хэрхэн тогтоох нь даатгуулагчийн сонголт байдаг боловч даатгалын тохиолдлын үед хохирлын хэдэн хувийг нөхөн төлөх нь хувь тэнцүүлэгдэх зарчимд суурилдаг тул зах зээлийн үнэлгээтэй тэнцүү хэмжээгээр даатгалын үнэлгээг тогтоохыг даатгагч зөвлөдөг.\n",
      "Санхүүгийн зохицуулах хороо болон холбогдох мэргэжлийн холбоодын хамтран зохион байгуулсан даатгалын зуучлагчийн эрх олгох сургалтад хамрагдаж, шалгалтад тэнцсэн ажилтнуудын мэдээлэлтэй\n",
      "ЭНД\n",
      "дарж танилцана уу.' metadata={'source': 'https://www.xacbank.mn/product/59', 'title': '59', 'type': 'pro'}\n",
      "page_content='Үндсэн хөрөнгийн зээл авах бол зээлийн шалгуурыг Энд дарж авна уу;\n",
      "Төслийн шалгуур хэсэгт заасан баримт бичгүүд.' metadata={'source': 'https://www.xacbank.mn/product/125', 'title': '125', 'type': 'pro'}\n",
      "page_content='Хөдөлмөрийн чадвар түр болон бүрэн алдалт;\n",
      "Тахир дутуугийн зэрэглэлд тогтоох;\n",
      "Нас барах.\n",
      "Шаардлагатай бичиг баримтын жагсаалт\n",
      "Даатгуулагчийн иргэний үнэмлэхний хуулбар, утасны дугаар, и-мэйл хаяг;\n",
      "Даатгуулагчийн эрхэлдэг ажил, албан тушаалыг нотлох бичиг баримт;\n",
      "Нөхөн төлбөрийн эрхтэй этгээдийн иргэний үнэмлэхний хуулбар, утасны дугаар, и-мэйл хаяг.\n",
      "Нөхөн төлбөрийн тохиолдолд бүрдүүлэх материалын жагсаалт\n",
      "Даатгуулагчийн өргөдөл;\n",
      "Холбогдох эрх бүхий байгууллагын дүгнэлт. (Жишээ нь: Онцгой байдлын газрын дүгнэлт г.м);\n",
      "Хохирлын үнэлгээний тайлан;\n",
      "Даатгалын гэрээ, гэрээт баталгааны эх хувь;\n",
      "Бусад шаардлагатай материал.\n",
      "* Даатгалын компани бүр тухайн даатгах биет хөрөнгийг хариуцах эрсдлийн жагсаалт болон түүнд харьяалагдах үнэ ялгаатай байдаг.\n",
      "Санхүүгийн зохицуулах хороо болон холбогдох мэргэжлийн холбоодын хамтран зохион байгуулсан даатгалын зуучлагчийн эрх олгох сургалтад хамрагдаж, шалгалтад тэнцсэн ажилтнуудын мэдээлэлтэй\n",
      "ЭНД\n",
      "дарж танилцана уу.' metadata={'source': 'https://www.xacbank.mn/product/61', 'title': '61', 'type': 'pro'}\n",
      "page_content='татаж авах\n",
      "/;\n",
      "Хуулийн этгээдийн улсын бүртгэлийн гэрчилгээ /нотариатаар батлуулсан хуулбарын хамт/;\n",
      "Гүйцэтгэх удирдлагын цээж зураг, иргэний үнэмлэхийн хуулбар /зөвхөн анх удаа зээл хүсэгчид хамаатай/;\n",
      "Үүсгэн байгуулагчдын хооронд байгуулсан гэрээ /нотариатаар батлуулсан хуулбарын хамт/;\n",
      "Өмнөх 1 жилийн болон сүүлийн улирлын Татварын албанаас баталгаажуулсан тайлан тэнцлийн хуулбар;\n",
      "Зээлээр санхүүжүүлэх үйл ажиллагаатай холбоотой гэрээ, хэлцлийн хуулбар;\n",
      "Барьцаалуулах хөрөнгийг өмчлөх эрхийн гэрчилгээ;\n",
      "Банкны зүгээс шаардлагатай гэж үзсэн бусад нэмэлт материал.' metadata={'source': 'https://www.xacbank.mn/product/24', 'title': '24', 'type': 'pro'}\n"
     ]
    }
   ],
   "source": [
    "query = \"Тэтгэврийн зээлд хамрагдах боломжтой хүмүүсийн талаар мэдээлэл өгнө үү\"\n",
    "context = vectordb.similarity_search(query, k=5, filter={\"type\": \"pro\"})\n",
    "for c in context:\n",
    "    print(c)"
   ]
  },
  {
   "cell_type": "markdown",
   "metadata": {},
   "source": [
    "Llama-3-70B-Instruct"
   ]
  },
  {
   "cell_type": "code",
   "execution_count": 14,
   "metadata": {},
   "outputs": [
    {
     "name": "stderr",
     "output_type": "stream",
     "text": [
      "c:\\Users\\ikhba\\Documents\\RAG\\.conda\\lib\\importlib\\__init__.py:126: LangChainDeprecationWarning: As of langchain-core 0.3.0, LangChain uses pydantic v2 internally. The langchain_core.pydantic_v1 module was a compatibility shim for pydantic v1, and should no longer be used. Please update the code to import from Pydantic directly.\n",
      "\n",
      "For example, replace imports like: `from langchain_core.pydantic_v1 import BaseModel`\n",
      "with: `from pydantic import BaseModel`\n",
      "or the v1 compatibility namespace if you are working in a code base that has not been fully upgraded to pydantic 2 yet. \tfrom pydantic.v1 import BaseModel\n",
      "\n",
      "  return _bootstrap._gcd_import(name[level:], package, level)\n"
     ]
    }
   ],
   "source": [
    "from langchain.chains import LLMChain\n",
    "from langchain_core.prompts import PromptTemplate\n",
    "from langchain_huggingface import HuggingFaceEndpoint"
   ]
  },
  {
   "cell_type": "code",
   "execution_count": 24,
   "metadata": {},
   "outputs": [],
   "source": [
    "def truncate_context(query, context, max_length=8180):\n",
    "    template = \"\"\"Доорх асуултанд хариулаарай. Хариулахад дараах мэдээллийг ашиглана уу. Хэрэв та хариултаа мэдэхгүй бол мэдэхгүй гэж хэлээрэй, хариулт зохиох гэж бүү оролдоорой. Хамгийн ихдээ гурван өгүүлбэр ашигла. Хариултаа аль болох товчхон бичээрэй. Хариултын төгсгөлд \"Асуусанд баярлалаа!\" гэж үргэлж хэлээрэй.\n",
    "    {context}\n",
    "    Асуулт: {query}\n",
    "    Хариулт: Хариулахад алхам алхмаар бодож үзье.\"\"\"\n",
    "\n",
    "    remaining_length = max_length - len(template.lower().format(context=\"\", query=query))\n",
    "    truncated_context = context[:remaining_length]\n",
    "    new_template = template.format(context=truncated_context, query=query)\n",
    "    return new_template"
   ]
  },
  {
   "cell_type": "code",
   "execution_count": 16,
   "metadata": {},
   "outputs": [],
   "source": [
    "repo_id = \"meta-llama/Meta-Llama-3.1-70B-Instruct\"\n",
    "\n",
    "llm = HuggingFaceEndpoint(\n",
    "    repo_id=repo_id,\n",
    "    temperature=0.1,\n",
    "    huggingfacehub_api_token=HUGGINGFACEHUB_API_TOKEN,\n",
    ")"
   ]
  },
  {
   "cell_type": "code",
   "execution_count": 25,
   "metadata": {},
   "outputs": [],
   "source": [
    "def handle_query(query):\n",
    "    # Retreival  \n",
    "    context = mmr_search(query, k=8, fetch_k=20, lambda_param=0.7)\n",
    "    \n",
    "    formatted_context = format_context(context.lower())\n",
    "\n",
    "    prompt = PromptTemplate.from_template(truncate_context(query, context))\n",
    "\n",
    "    # Generation\n",
    "    llm_chain = prompt | llm\n",
    "    response = llm_chain.invoke({\"context\": context, \"query\": query})\n",
    "\n",
    "    return formatted_context, response"
   ]
  },
  {
   "cell_type": "code",
   "execution_count": 26,
   "metadata": {},
   "outputs": [],
   "source": [
    "# Function to format the context \n",
    "def format_context(context): \n",
    "    lines = context.split(\"\\n\") \n",
    "    formatted_lines = [] \n",
    "    for line in lines: \n",
    "        formatted_lines.append(line[:200]) # Truncate each line to 200 characters \n",
    "        \n",
    "    return \"\\n\".join(formatted_lines)"
   ]
  },
  {
   "cell_type": "code",
   "execution_count": 27,
   "metadata": {},
   "outputs": [
    {
     "name": "stdout",
     "output_type": "stream",
     "text": [
      "Query \n",
      "-----------------------\n",
      "Банкны хамгийн том түүхэн амжилтууд юу вэ?\n",
      "\n",
      "Retrieval: \n",
      "-----------------------\n",
      "https://www.xacbank.mn/article/297: явж байгаатай зүйрлэж болох байх. учир нь, “хас” банк банкны лиценз авсан бусад арилжааны банкууд дотроо хамгийн “залуу”-д тооцогдоно. гэхдээ ололт амжилтын хувьд э\n",
      "https://www.xacbank.mn/article/267: оюутан танд сургалтын төлбөрөө төлөх хэрэгцээ байна уу ?  та бүхнийг хас банкны  виттана төсөлд хамрагдахыг урьж байна\\n\\nоюутан танд сургалтын төлбөрөө төлөх хэрэг\n",
      "https://www.xacbank.mn/article/20th-anniversay: үзүүлэлт хэд дахин өсөж, анх төсөөлөө ч үгүй байсан олон амжилтыг бүтээсэн ч анхны зорилго, үзэл санаандаа үнэнч хэвээр үлдсэн нь бидний 20 жилийн ойн х\n",
      "https://www.xacbank.mn/article/bankshot: болно.bankshot гэж юу вэ?bankshot гэдэг нь бидний хэлж заншсанаар самбардаж оруулах буюу бөмбөг цагирагны арын самбарт ойн орохыг ойлгоно. гэхдээ үүнд хоёр алх\n",
      "https://www.xacbank.mn/article/ipo-ceo-interview: л асуудал.он гарсаар дэлхийн томоохон банкнууд дампуурлаа зарласан үйл явдал цөөнгүй боллоо. үүнтэй холбоотойгоор төв банкны зохицуулалтууд улам чанга\n",
      "https://www.xacbank.mn/article/298: ирээдүйнхээ төлөө санаа тавьдаг иргэн бүрт зориулсан хаслотто аяныг өнгөрсөн сараас эхлүүллээ. аяны онцлог нь хамгийн урт хугацаанд, хамгийн өндөр шагналын сантайга\n",
      "https://www.xacbank.mn/article/412: гарсан анхны хүүхдийн хадгаламж, хүүн дээр нь хүү боддогоор бусад банкныхаас давуу аж. монголд арижлааны хэчнээн банк байгаа билээ? тэр бүгдийн “хүүхдийн” гэх хадга\n",
      "https://www.xacbank.mn/article/576: л.гантөмөр: бизнесээ цэцэглүүлэх боломж бол банкны зээл\\n\\nл.гантөмөр: бизнесээ цэцэглүүлэх боломж бол банкны зээл“гэргрупп”-ынерөнхийзахиралл.гантөмөртэйярилцлаа.т\n",
      "\n",
      "Generation \n",
      "-----------------------\n",
      " ХасБанкны хамгийн том түүхэн амжилтуудын нэг нь 2003 онд Монголын анхны франчайзингийн үйлчилгээг нэвтрүүлсэн явдал юм. Энэ нь Монголын бизнесийн салбарт шинэ хэв шинжийг нэвтрүүлж, олон бизнес эрхлэгчдэд шинэ боломжуудыг нээсэн юм. Мөн тэдний хамгийн том түүхэн амжилтуудын нэг нь 2010 онд Монголын анхны хүүхдийн хадгаламжийг нэвтрүүлсэн явдал юм. Энэ нь хүүхдүүдийн санхүүгийн боловсролыг дээшлүүлэхэд чиглэсэн шинэ санаа байсан юм. Асуусанд баярлалаа!\n"
     ]
    }
   ],
   "source": [
    "query = \"Банкны хамгийн том түүхэн амжилтууд юу вэ?\"\n",
    "\n",
    "print(\"Query\", \"\\n-----------------------\")\n",
    "print(query)\n",
    "\n",
    "context, response = handle_query(query)\n",
    "print()\n",
    "print(\"Retrieval:\", \"\\n-----------------------\")\n",
    "print(context)\n",
    "\n",
    "# Generation\n",
    "print()\n",
    "print(\"Generation\", \"\\n-----------------------\")\n",
    "print(response)"
   ]
  },
  {
   "cell_type": "code",
   "execution_count": 29,
   "metadata": {},
   "outputs": [
    {
     "name": "stdout",
     "output_type": "stream",
     "text": [
      "Query \n",
      "-----------------------\n",
      "Зээлийн жилийн хүү 8%-тай байж болох уу?\n",
      "\n",
      "Retrieval: \n",
      "-----------------------\n",
      "https://www.xacbank.mn/product/7: хадгаламж барьцаалсан зээл\n",
      "хэмжээ\n",
      "хадгаламжийн 80-85% хүртэл\n",
      "хугацаа\n",
      "24 сар\n",
      "хүү (жилийн)\n",
      "хадгаламжийн жилийн хүү + /4%-7.2%/\\n\\nхадгаламж барьцаалсан зээл\n",
      "харилцагч та гэнэтийн санхүүгийн хэрэгцээгээ шийдвэрлэх гэж байгаа бол “хадгаламж барьцаалсан зээл”-ийг сонгоорой. энэхүү хадгаламж барьцаалсан зээлийг сонгосноор та өөрийн хадгаламж болон хүүгийн хур\n",
      "бүтээгдэхүүнийн нөхцөл:\n",
      "олгох валют\n",
      "хугацаа\n",
      "дээд хэмжээ\n",
      "доод\n",
      "хэмжээ\n",
      "жилийн хүү\n",
      "(хадгаламжийн хүү + нэмэгдүүлэх хувь)\n",
      "зээл олголтын мөнгөн дүн\n",
      "нэмэгдүүлэх хувь\n",
      "төгрөг\n",
      "-\n",
      "барьцаалж буй мөнгөн хадгаламжийн дансны валютаар\n",
      "барьцаалж буй хадгаламжийн гэрээний хугацаанаас хэтрэхгүй буюу дээд хугацаа 24 сар\n",
      "барьцаалж буй мөнгөн хадгаламжийн дансны үлдэгдэл дүнгийн 85% хүртэл\n",
      "төгрөг - 100,000\n",
      "0.1-3 сая\n",
      "+7.20%\n",
      "-\n",
      "3.01-50 сая\n",
      "+6.40%\n",
      "50.01-100 сая\n",
      "+5.60%\n",
      "100.01-500 сая\n",
      "+4.80%\n",
      "500 сая-с дээш\n",
      "+4.00%\n",
      "цахим банкаар дамжуулан хадгаламж барьцаалсан зээл авах:\n",
      "суваг\n",
      "https://www.xacbank.mn/product/71: зарласан\n",
      "9.00%\n",
      "9.60%\n",
      "10.20%\n",
      "11.00%\n",
      "11.00%\n",
      "12.00%\n",
      "2.40%\n",
      "бодит1\n",
      "9.38%\n",
      "10.03%\n",
      "10.69%\n",
      "11.57%\n",
      "11.57%\n",
      "12.68%\n",
      "ам.доллар\n",
      "200\n",
      "зарласан\n",
      "1.20%\n",
      "3\n",
      "1.40%\n",
      "1.60%\n",
      "1.80%\n",
      "-\n",
      "-\n",
      "0.50%\n",
      "бодит1\n",
      "1.21%\n",
      "1.41%\n",
      "1.61%\n",
      "1.81%\n",
      "-\n",
      "-\n",
      "юань\n",
      "1,500\n",
      "зарласан\n",
      "1.20%\n",
      "4\n",
      "1.40%\n",
      "4\n",
      "1.60%\n",
      "4\n",
      "1.80%\n",
      "-\n",
      "-\n",
      "0.40%\n",
      "бодит\n",
      "1\n",
      "1.21%\n",
      "1.41%\n",
      "1.61%\n",
      "1.81%\n",
      "-\n",
      "-\n",
      "иен\n",
      "30,000\n",
      "зарласан\n",
      "1.00%\n",
      "-\n",
      "-\n",
      "-\n",
      "-\n",
      "-\n",
      "0.50%\n",
      "бодит1\n",
      "1.00%\n",
      "-\n",
      "-\n",
      "-\n",
      "-\n",
      "-\n",
      "данс нээхэд\n",
      "хураамжгүй\n",
      "гэрээний хугацаанаас өмнө гэрээ цуцлах хураамж\n",
      "3,000₮\n",
      "1\n",
      "- бодит хүү гэдэг нь хүүнээс хүү тооцсоноор таны хадгаламж 1 жилийн дараа бодитоор хэдэн хувь өсөхийг харуулах ба аравны нарийвчлалтай болно.\n",
      "2\n",
      "- санхүүгийн тогтвортой харилцаа үүсгэсэн харилцагчийн хугацаатай хадгаламжийн хүүг 1.5 хувь хүртэл нэмэгдүүлэн тохирох боломжтой.\n",
      "3\n",
      "- хадгаламжийн үлдэгдэл 10,000,001 доллараас дээш тохиолдолд хадгаламжийн хүү 1.8%-аар тооцогдоно.\n",
      "4\n",
      "- хадгаламжийн үлдэгдэл 50,000,001 юаниас дээш дүнтэй тохиолдолд хадгаламжийн хүү 1.80%-аар тооцогдоно.\n",
      "бусад шимтгэл, хураамж\n",
      "үйлчилгээний төрөл\n",
      "https://www.xacbank.mn/product/19: нэг жилийн доторхи баримтаас\n",
      "10,000\n",
      "нэг жилээс дээшхи хугацааны баримтаас\n",
      "20,000\n",
      "https://www.xacbank.mn/product/88: 0.1-0.5 хувь\n",
      "үйлчилгээг хэрхэн авах вэ?\n",
      "харилцагч та хүсэлтээ хасбанкны аль ч салбарт гаргах боломжтой. бөгөөд хүсэлтийн дагуу байгууллага хариуцсан харилцааны менежерүүд таньтай холбогдон шаардлагатай мэдээллийг өгч, харилцан тохиролцон гэ\n",
      "дэлгэрэнгүй мэдээлэл авахыг хүсвэл хасбанкны хамгийн ойрын салбар болон харилцагчийн үйлчилгээний төвийн 1800-1888 дугаарт холбогдох, мөн та байгууллага хариуцсан харилцааны менежертэй холбогдохыг хүс\n",
      "https://www.xacbank.mn/product/8: хугацаагүй хадгаламж\n",
      "дансны доод үлдэгдэл\n",
      "10,000₮\n",
      "зарласан хүү\n",
      "төгрөг: 3.60%-4.80%\n",
      "гадаад валют: 0.8%-1.0%\n",
      "бодит хүү\n",
      "төгрөг: 3.66%-4.91%\n",
      "гадаад валют: 0.8%-1.0%\\n\\nхугацаагүй хадгаламж\n",
      "харилцагч та хүссэн үедээ орлого зарлагын гүйлгээ хийж, хүүгийн орлого олох хүсэлтэй бол хасбанкны хугацаагүй хадгаламжийг сонгоорой.\n",
      "давуу тал\n",
      "орлого, зарлагын гүйлгээний хязгаарлалтгүй;\n",
      "хүүг нийлмэл аргаар буюу хүүнээс хүү бодогддог;\n",
      "хадгаламжийн үлдэгдэл дүн өсөх тутам хүүгийн хувь хэмжээ өсдөг;\n",
      "цахим банкны үйлчилгээнд бүртгүүлж, банканд ирэхгүйгээр интернет, гар утас ашиглан дансны үлдэгдлээ шалгах, гүйлгээ хийж, дансаа удирдах боломжтой.\n",
      "бүтээгдэхүүний нөхцөл\n",
      "валютын төрөл\n",
      "дансны нээх доод үлдэгдэл\n",
      "хүү\n",
      "данс хөтөлсний шимтгэл\n",
      "(сар бүр)\n",
      "идэвхгүй дансны хураамж**\n",
      "(сар бүр)\n",
      "дансны үлдэгдэл\n",
      "зарласан хүү\n",
      "бодит хүү*\n",
      "төгрөг\n",
      "10,000\n",
      "50 сая төгрөг хүртэл\n",
      "3.60%***\n",
      "3.66%\n",
      "100\n",
      "200\n",
      "50 сая төгрөгөөс дээш\n",
      "4.80%***\n",
      "4.91%\n",
      "ам.доллар\n",
      "10\n",
      "1.00%\n",
      "1.00%\n",
      "0.1\n",
      "0.2\n",
      "евро\n",
      "10\n",
      "1.00%\n",
      "1.00%\n",
      "0.1\n",
      "0.2\n",
      "юань\n",
      "50\n",
      "0.80%\n",
      "0.80%\n",
      "0.5\n",
      "1\n",
      "иень\n",
      "https://www.xacbank.mn/product/25: www.lgf.mn\n",
      "*зээлийн бодит өртөг (жилийн): ₮ 22.5% - 24.9%; $ 13.42% - 18.23%;\n",
      "тавигдах шаардлага\n",
      "зээлээ эргэн төлөхүйц бизнесийн орлоготой, баталгаажсан байх;\n",
      "тухайн бизнесээ 6 сараас дээш хугацаанд эрхэлсэн байх;\n",
      "хөдлөх болон үл хөдлөх хөрөнгийн барьцаатай байх.\n",
      "бүрдүүлэх материал:\n",
      "иргэн:\n",
      "харилцагчийн анкет бөглөнө. /хасбанкны маягт\n",
      "татаж авах\n",
      "/ 1% цээж зураг/ зөвхөн анх удаа зээл хүсэгчийн хувьд/;\n",
      "зээлийн өргөдөл /хасбанкны маягт\n",
      "татаж авах\n",
      "/;\n",
      "иргэний үнэмлэхийн хуулбар;\n",
      "үйлдвэрлэл, үйлчилгээ, худалдаа эрхлэхтэй холбоотой зөвшөөрөл, лиценз, патент, ажлын байрны дүгнэлт, түрээсийн гэрээ;\n",
      "бизнесийн орлоготой холбоотой баримтууд;\n",
      "орон сууц, хашаа байшин, газар өмчлөх, эзэмших эрхийн гэрчилгээ;\n",
      "банкны зүгээс шаардлагатай гэж үзсэн бусад нэмэлт материал\n",
      "хуулийн этгээд:\n",
      "бизнесийн зээлийн өргөдөл /хасбанкны маягтаар\n",
      "татаж авах\n",
      "/;\n",
      "хуулийн этгээдийн улсын бүртгэлийн гэрчилгээ /нотариатаар батлуулсан хуулбарын хамт/;\n",
      "https://www.xacbank.mn/product/12: орон сууцны зээл\n",
      "хэмжээ\n",
      "500 сая төгрөг\n",
      "хугацаа\n",
      "240 сар\n",
      "хүү /төгрөг/\n",
      "сарын: 1.5%\n",
      "жилийн: 18.0%\\n\\nорон сууцны зээл\n",
      "харилцагч та улсын комисс хүлээн авсан, үл хөдлөх хөрөнгийн өмчлөлийн гэрчилгээ гарах боломжтой шинэ орон сууц эсхүл 1980 оноос хойш ашиглалтанд орсон хуучин орон сууцыг худалдан авах гэж байгаа бол “\n",
      "давуу тал:\n",
      "өөрийн хэрэгцээнд тохирсон шийдлээр зээл авах боломжтой;\n",
      "орон сууц авахаас гадна гараж худалдан авах хэрэгцээгээ нэг дор шийдвэрлэх боломжтой;\n",
      "өөрийн санхүүгийн чадварт тохирсон зээлийн хэмжээг банкаар урьдчилан тогтоолгож, “батламж” авснаар цаг хугацаанд шахагдалгүйгээр өөрийн хүссэн орон сууцыг сонгох боломжтой.\n",
      "та орон сууцтай болох гэж байгаа бол:\n",
      "100 хувийн санхүүжилтийн зээл\n",
      "https://www.xacbank.mn/product/19: шимтгэл хураамж\\n\\nшимтгэл хураамж\n",
      "үйлчилгээний төрөл\n",
      "гүйлгээний хэлбэр\n",
      "шимтгэлийн хувь, хэмжээ /мөнгөн тэмдэгтийн төрөл/\n",
      "mnt\n",
      "usd\n",
      "eur\n",
      "cny\n",
      "jpy\n",
      "aud\n",
      "cad\n",
      "rub\n",
      "krw\n",
      "gbp\n",
      "харилцах, хадгаламжийн дансны орлогын гүйлгээ\n",
      "бэлэн\n",
      "шимтгэлгүй\n",
      "0.2%\n",
      "зөвхөн бэлэн бусаар хийнэ\n",
      "20%\n",
      "1.5%\n",
      "0.3%\n",
      "бэлэн бус\n",
      "шимтгэлгүй\n",
      "харилцах, хадгаламжийн дансны зарлагын гүйлгээ\n",
      "бэлнээр зарлага гаргахад\n",
      "1\n",
      "бэлэн тушаасан орлогоос бэлнээр зарлага гаргахад\n",
      "200 төг\n",
      "0-10,000 usd түүнтэй тэнцэх - 5,000 төгрөг\n",
      "10,000-100,000 usd түүнтэй тэнцэх - 10,000 төгрөг\n",
      "100,000 usd-с дээш түүнтэй тэнцэх - 20,000 төгрөг\n",
      "бэлэн бусаар шилжүүлсэн орлогоос бэлнээр гаргахад\n",
      "200 төг\n",
      "0.3%\n",
      "0.5%\n",
      "0.5%\n",
      "0.5%\n",
      "-\n",
      "2.0%\n",
      "2.0%\n",
      "0.5%\n",
      "бэлэн бусаар шилжүүлэг хийхэд\n",
      "данс хооронд бол гүйлгээ бүрээс\n",
      "интернэт банкаар хийх гүйлгээ 0₮\n",
      "салбарт хийх гүйлгээ 100₮\n",
      "2\n",
      "банк хооронд бол гүйлгээ бүрээс\n",
      "200 төг\n",
      "3\n",
      "1$\n",
      "0.5€\n",
      "1000₮\n",
      "-\n",
      "бэлэн мөнгө\n",
      "тушааж, бусад банк руу\n",
      "шилжүүлэг\n",
      "хийх\n",
      "2,000₮\n",
      "залруулга\n",
      "гүйлгээ\n",
      "500₮\n",
      "хугацаагүй хадгаламжийн данс хөтөлсний хураамж /сар бүр/\n",
      "100 төг\n",
      "0.1\n",
      "0.1\n",
      "0.5\n",
      "10\n",
      "\n",
      "Generation \n",
      "-----------------------\n",
      " Хадгаламжийн жилийн хүү + 4%-7.2% хүүтэй байхад зээлийн жилийн хүү 8%-тай байж болохгүй байна. Асуусанд баярлалаа!\n"
     ]
    }
   ],
   "source": [
    "query = \"Зээлийн жилийн хүү 8%-тай байж болох уу?\"\n",
    "\n",
    "print(\"Query\", \"\\n-----------------------\")\n",
    "print(query)\n",
    "\n",
    "context, response = handle_query(query)\n",
    "print()\n",
    "print(\"Retrieval:\", \"\\n-----------------------\")\n",
    "print(context)\n",
    "\n",
    "# Generation\n",
    "print()\n",
    "print(\"Generation\", \"\\n-----------------------\")\n",
    "print(response)"
   ]
  },
  {
   "cell_type": "code",
   "execution_count": 31,
   "metadata": {},
   "outputs": [
    {
     "name": "stderr",
     "output_type": "stream",
     "text": [
      "You seem to be using the pipelines sequentially on GPU. In order to maximize efficiency please use a dataset\n"
     ]
    },
    {
     "name": "stdout",
     "output_type": "stream",
     "text": [
      "Query \n",
      "-----------------------\n",
      "Monpay мэдээлэл авъя\n",
      "\n",
      "Retrieval: \n",
      "-----------------------\n",
      "улаангом тооцооны төв, экспресс банк атм: улаангом тооцооны төв, экспресс банк атм атм \\n\\nсалбар: увс аймаг, улаангом сум, 3-р баг, хас банк улаангом тооцооны төв  \\nцагийн хуваарь: даваа-ням 09:00-2\n",
      "гандан моми : гандан моми  атм \\n\\nсалбар: бгд орхон 2-130 \\nцагийн хуваарь: даваа-ням \\nутас:  \\n\n",
      "дэнжийн 1000 сүүн дэлгүүр: дэнжийн 1000 сүүн дэлгүүр атм \\n\\nсалбар: 10-р хороо; шинэчлэл хороолол \\nцагийн хуваарь:  09-22 цаг \\nутас: 1800-1888 \\n\n",
      "100 айл салбар atm: 100 айл салбар atm атм \\n\\nсалбар: 10-р хороо, цагдаагийн гудамж\n",
      "/100 айл/ \\nцагийн хуваарь: даваа гарагт амарна.\n",
      "бусад өдөр 10-19 цаг \\nутас: 1800-1888 \\n\n",
      "бөхийн өргөө баянзүрх хүнсний зах атм: бөхийн өргөө баянзүрх хүнсний зах атм атм \\n\\nсалбар: 6-р хороо, бөхийн өргөө баянзүрх хүнсний зах \\nцагийн хуваарь: даваа-ням 24/7 цаг \\nутас: 1800-1888 \\n\n",
      "их-орд лоби crm: их-орд лоби crm атм \\n\\nсалбар: 14-р хороо, намъянжүгийн гудамж, их орд худалдааны төв,  хас банк ир орд тооцооны төв \\nцагийн хуваарь: даваа-ням 24 цаг \\nутас: 1800-1888 \\n\n",
      "дархан нэхий худалдааны төв  атм: дархан нэхий худалдааны төв  атм атм \\n\\nсалбар: орхон аймаг, баян-өндөр сум, их залуу 3а-9 тоот, дархан нэхий худалдааны төв  \\nцагийн хуваарь: даваа-ням 10:00-22:00\n",
      "нарлаг дэнж atm: нарлаг дэнж atm атм \\n\\nсалбар: 11-р хороо, самбалхүндэвийн зам, нарлаг дэнж зах \\nцагийн хуваарь: даваа-ням 08:00-18:00 цаг \\nутас: 18001888 \\n\n",
      "\n",
      "Generation \n",
      "-----------------------\n",
      " Хас банкны Monpay мэдээлэл нь дараахь алхамуудыг дагаж мөрдөнө:\n",
      "    1. Хас банкны цахим хуудаснаас Monpay мэдээлэл авах\n",
      "    2. Хас банкны салбаруудын нэгэнд очоод Monpay мэдээлэл авах\n",
      "    3. Хас банкны утасны дэмжлэгтэй холбоо барих\n",
      "    4. Хас банкны АТМ-аас Monpay мэдээлэл авах\n",
      "    Асуусанд баярлалаа!\n"
     ]
    }
   ],
   "source": [
    "query = \"Monpay мэдээлэл авъя\"\n",
    "\n",
    "print(\"Query\", \"\\n-----------------------\")\n",
    "print(query)\n",
    "\n",
    "context, response = handle_query(query)\n",
    "print()\n",
    "print(\"Retrieval:\", \"\\n-----------------------\")\n",
    "print(context)\n",
    "\n",
    "# Generation\n",
    "print()\n",
    "print(\"Generation\", \"\\n-----------------------\")\n",
    "print(response)"
   ]
  },
  {
   "cell_type": "code",
   "execution_count": 44,
   "metadata": {},
   "outputs": [],
   "source": [
    "import gradio as gr"
   ]
  },
  {
   "cell_type": "code",
   "execution_count": 45,
   "metadata": {},
   "outputs": [
    {
     "name": "stdout",
     "output_type": "stream",
     "text": [
      "* Running on local URL:  http://127.0.0.1:7860\n",
      "\n",
      "To create a public link, set `share=True` in `launch()`.\n"
     ]
    },
    {
     "data": {
      "text/html": [
       "<div><iframe src=\"http://127.0.0.1:7860/\" width=\"100%\" height=\"500\" allow=\"autoplay; camera; microphone; clipboard-read; clipboard-write;\" frameborder=\"0\" allowfullscreen></iframe></div>"
      ],
      "text/plain": [
       "<IPython.core.display.HTML object>"
      ]
     },
     "metadata": {},
     "output_type": "display_data"
    },
    {
     "data": {
      "text/plain": []
     },
     "execution_count": 45,
     "metadata": {},
     "output_type": "execute_result"
    }
   ],
   "source": [
    "# Create Gradio interface \n",
    "iface = gr.Interface( \n",
    "    fn=handle_query, \n",
    "    inputs=\"text\", \n",
    "    outputs=[\"text\", \"text\"], \n",
    "    examples=[[\"Хамгийн өндөр цалинтай ажил юу вэ?\"]], \n",
    "    title=\"Khas Bank Q&A Interface\", \n",
    "    description=\"Асуултаа оруулна уу?\"\n",
    ")\n",
    "\n",
    "iface.launch()"
   ]
  },
  {
   "cell_type": "code",
   "execution_count": 46,
   "metadata": {},
   "outputs": [
    {
     "name": "stdout",
     "output_type": "stream",
     "text": [
      "Closing server running on port: 7860\n"
     ]
    }
   ],
   "source": [
    "iface.close()"
   ]
  },
  {
   "cell_type": "code",
   "execution_count": null,
   "metadata": {},
   "outputs": [],
   "source": []
  },
  {
   "cell_type": "code",
   "execution_count": null,
   "metadata": {},
   "outputs": [],
   "source": []
  }
 ],
 "metadata": {
  "kernelspec": {
   "display_name": "Python 3",
   "language": "python",
   "name": "python3"
  },
  "language_info": {
   "codemirror_mode": {
    "name": "ipython",
    "version": 3
   },
   "file_extension": ".py",
   "mimetype": "text/x-python",
   "name": "python",
   "nbconvert_exporter": "python",
   "pygments_lexer": "ipython3",
   "version": "3.10.14"
  }
 },
 "nbformat": 4,
 "nbformat_minor": 2
}
